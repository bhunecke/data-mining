{
 "cells": [
  {
   "cell_type": "markdown",
   "id": "c2e647a4",
   "metadata": {},
   "source": [
    "# Bonus Sheet: Actual Data Mining\n",
    "\n",
    "**Introduction to Data Mining WS23/24**  \n",
    "**Bielefeld University**  \n",
    "**Alina Deriyeva, Benjamin Paaßen**  \n",
    "**Exercise Sheet Publication Date: 2023-12-18**  \n",
    "**Exercise Sheet Submission Deadline: 2023-01-12, noon (i.e. 12:00), via moodle** (please do not use e-mail submissions anymore).\n",
    "\n",
    "**NOTE** The use of language models/AI tools is permitted IF you notify us of the use (just indicate it in the respective task) and are still able to understand and present your results. We also appreciate it if you link to a chatlog of the interaction with the language model/AI tool so that we can understand better how students tend to use these tools."
   ]
  },
  {
   "cell_type": "markdown",
   "id": "9f8967b8",
   "metadata": {},
   "source": [
    "**PLEASE INDICATE ALL AUTHORS OF THE SUBMISSION IN THIS FIELD**"
   ]
  },
  {
   "cell_type": "markdown",
   "id": "3cd7aac8",
   "metadata": {},
   "source": [
    "### Preamble: Data set\n",
    "\n",
    "In the file `bonus_sheet_data.json`, you can find real-world data gathered from the movie quiz podcast [\"Wendeltreppe ins Nichts\"](https://wendeltreppe.letscast.fm/). The data was gathered with explicit consent from each involved party.\n",
    "\n",
    "The movie quiz is a competetive game between two players. Each episode consists of five rounds. In each round, the goal is to be the first to guess the correct moview. As hints, the quizmaster/moderator/host provides reviews (in German language) of the film. The first review is typically highly ambiguous, whereas later reviews are more specific. Each round continues until the correct film is guessed.\n",
    "\n",
    "The structure of the JSON data mimics the structure of the game itself. Here is the start of the data file for illustration:\n",
    "\n",
    "```\n",
    "[\n",
    "  {\n",
    "    \"index\": 1,\n",
    "    \"season\": 1,\n",
    "    \"date\": \"2021-05-08\",\n",
    "    \"title\": \"Wendeltreppe durch die Zeit\",\n",
    "    \"url\": \"https://wendeltreppe.letscast.fm/episode/001-wendeltreppe-durch-die-zeit-mit-julius\",\n",
    "    \"host\": \"Jan\",\n",
    "    \"players\": [\n",
    "      \"Julius\",\n",
    "      \"Christiane\"\n",
    "    ],\n",
    "    \"rounds\": [\n",
    "      {\n",
    "        \"start_time\": \"06:43\",\n",
    "        \"end_time\": \"15:39\",\n",
    "        \"reviews\": [\n",
    "          {\n",
    "            \"source\": \"filmstarts.de\",\n",
    "            \"guesses\": [\n",
    "              {\n",
    "                \"player\": \"Christiane\",\n",
    "                \"movie\": \"Hereditary\",\n",
    "                \"url\": \"https://letterboxd.com/film/hereditary/\"\n",
    "              },\n",
    "              {\n",
    "                \"player\": \"Julius\",\n",
    "                \"movie\": \"10 Cloverfield Lane\",\n",
    "                \"url\": \"https://letterboxd.com/film/10-cloverfield-lane/\"\n",
    "              },\n",
    "              {\n",
    "                \"player\": \"Christiane\",\n",
    "                \"movie\": \"Get Out\",\n",
    "                \"url\": \"https://letterboxd.com/film/get-out-2017/\"\n",
    "              },\n",
    "              {\n",
    "                \"player\": \"Christiane\",\n",
    "                \"movie\": \"Us\",\n",
    "                \"url\": \"https://letterboxd.com/film/us-2019/\"\n",
    "              }\n",
    "            ]\n",
    "          },\n",
    "...\n",
    "```\n",
    "\n",
    "The entire data file is a list of episodes. Each episode is represented as a JSON object with the fields \"index\", \"season\", \"date\", \"title\" (of the podcast episode), \"url\" (of the podcast episode), \"host\" (for the moderator/quizmaster of the episode), \"players\" (for the players of the episode), and \"rounds\", which contains the actual data in this episode and is a list of rounds.\n",
    "\n",
    "Each round, in turn, is represented as a JSON object with the fields \"start_time\" (time stamp of the first review being read), \"end_time\" (time stamp of the confirmation that the right movie was guessed), and \"reviews\", which contains the actual data in this round and is a list of reviews.\n",
    "\n",
    "Each review, in turn, is represented as a JSON object with the fields \"source\" and \"guesses\", which contains all the guesses players made in response to the review and is a list of guesses.\n",
    "\n",
    "Each guess, finally, is represented as a JSON object with the fields \"player\", \"movie\", and \"url\" (the letterboxd-URL of the guessed film, which is unique even if the movie title is the same). If the guess was correct, the guess also has the field \"correct\" (with value `true`). Some of these guesses additionally have the field \"shared\" with value `true` if the moderator/quizmaster awarded the point for that round to both players (e.g. because both guessed the correct film at the same time or both contributed significantly to the correct solution).\n",
    "\n",
    "The following code loads the entire JSON data set and prints the data for the first review of the first round of the first episode."
   ]
  },
  {
   "cell_type": "code",
   "execution_count": 1,
   "id": "0e0efda6",
   "metadata": {},
   "outputs": [
    {
     "name": "stdout",
     "output_type": "stream",
     "text": [
      "{'source': 'filmstarts.de', 'guesses': [{'player': 'Christiane', 'movie': 'Hereditary', 'url': 'https://letterboxd.com/film/hereditary/'}, {'player': 'Julius', 'movie': '10 Cloverfield Lane', 'url': 'https://letterboxd.com/film/10-cloverfield-lane/'}, {'player': 'Christiane', 'movie': 'Get Out', 'url': 'https://letterboxd.com/film/get-out-2017/'}, {'player': 'Christiane', 'movie': 'Us', 'url': 'https://letterboxd.com/film/us-2019/'}]}\n"
     ]
    }
   ],
   "source": [
    "import json\n",
    "\n",
    "with open('bonus_sheet_data.json') as f:\n",
    "    data = json.load(f)\n",
    "\n",
    "print(data[0]['rounds'][0]['reviews'][0])"
   ]
  },
  {
   "cell_type": "markdown",
   "id": "541a600d",
   "metadata": {},
   "source": [
    "In the remainder of this sheet, you are asked to analyze this data set, using some data mining."
   ]
  },
  {
   "cell_type": "markdown",
   "id": "f28929fd",
   "metadata": {},
   "source": [
    "### Bonus Task 01\n",
    "\n",
    "To familiarize yourself with the structure of the JSON data, write python code to find out, for each episode, which player won how many rounds and print the result out."
   ]
  },
  {
   "cell_type": "code",
   "execution_count": null,
   "id": "d8d71e1d",
   "metadata": {},
   "outputs": [],
   "source": []
  },
  {
   "cell_type": "markdown",
   "id": "ed3289ee",
   "metadata": {},
   "source": [
    "### Bonus Task 02\n",
    "\n",
    "Create two feature matrices, one for episodes played against Christiane, one for episodes played against Jan. Each row should represent a round, each column a feature. In particular, the features should be:\n",
    "\n",
    "1. the number of guesses by player 1\n",
    "2. the number of guessed by player 2\n",
    "3. the number of reviews \n",
    "4. the time the round took (in seconds)\n",
    "\n",
    "The resulting feature matrices should have a size of 55 x 4 (55 rounds against Christiane) and 40 x 4 (40 rounds against Jan), respectively."
   ]
  },
  {
   "cell_type": "code",
   "execution_count": null,
   "id": "7db64976",
   "metadata": {},
   "outputs": [],
   "source": []
  },
  {
   "cell_type": "markdown",
   "id": "24c6815d",
   "metadata": {},
   "source": [
    "### Bonus Task 03\n",
    "\n",
    "Using the function `scipy.stats.ttest_ind`, Apply a Welch $t$-test to check if rounds against Christiane take significantly longer compared to rounds against Jan.\n",
    "\n",
    "Report the mean times against Christiane and against Jan, the standard deviations, the $p$ value of the $t$-test, and the effect size, using the formula\n",
    "\n",
    "\\begin{equation}\n",
    "d = \\frac{|\\mu_x - \\mu_y|}{\\sqrt{\\frac{1}{2}(\\sigma_x^2 + \\sigma_y^2)}}\n",
    "\\end{equation}"
   ]
  },
  {
   "cell_type": "code",
   "execution_count": null,
   "id": "f94d2ee0",
   "metadata": {},
   "outputs": [],
   "source": []
  },
  {
   "cell_type": "markdown",
   "id": "036f1571",
   "metadata": {},
   "source": [
    "### Bonus Task 04\n",
    "\n",
    "Create two vectors, one for episodes played against Christiane, one for episodes played against Jan. Each entry should contain the outcome of that round, namely whether Christiane/Jan won (0), whether their respective opponent won (1), or whether both won (0.5). The ordering should be consistent with the feature matrices you already computed."
   ]
  },
  {
   "cell_type": "code",
   "execution_count": null,
   "id": "d20b6a3c",
   "metadata": {},
   "outputs": [],
   "source": []
  },
  {
   "cell_type": "markdown",
   "id": "5f3d7f19",
   "metadata": {},
   "source": [
    "### Bonus Task 05\n",
    "\n",
    "Using the class `sklearn.linear_model.LogisticRegression`, train two logistic regression models, one for Christiane, one for Jan, which try to predict the outcomes from Bonus Task 04 using the feature matrices from Bonus Task 02.\n",
    "\n",
    "Use only rounds that were not draws (0.5).\n",
    "\n",
    "Report the respective accuracies and feature weights."
   ]
  },
  {
   "cell_type": "code",
   "execution_count": null,
   "id": "4f897d65",
   "metadata": {},
   "outputs": [],
   "source": []
  },
  {
   "cell_type": "markdown",
   "id": "1ec0e905",
   "metadata": {},
   "source": [
    "### Bonus Task 06\n",
    "\n",
    "For this task, concatenate the feature matrices for Christiane and Jan.\n",
    "\n",
    "Compute the overall number of guesses in each round by summing the first and second column.\n",
    "\n",
    "Provide a scatter plot of number of guesses (y-axis) versus time (x-axis).\n",
    "\n",
    "Using the function `scipy.stats.pearsonr`, compute the Pearson correlation between number of guesses and time. Report both the correlation coefficient and the p value."
   ]
  },
  {
   "cell_type": "code",
   "execution_count": null,
   "id": "ce2bdbe5",
   "metadata": {},
   "outputs": [],
   "source": []
  },
  {
   "cell_type": "markdown",
   "id": "2bd9b52e",
   "metadata": {},
   "source": [
    "### Bonus Task 07\n",
    "\n",
    "Use a `collections.Counter` to count how often movies were guessed. Use the `url` field to identify movies (the movie title itself may be ambiguous)."
   ]
  },
  {
   "cell_type": "code",
   "execution_count": null,
   "id": "a40a186f",
   "metadata": {},
   "outputs": [],
   "source": []
  },
  {
   "cell_type": "markdown",
   "id": "d19b8139",
   "metadata": {},
   "source": [
    "### Bonus Task 08\n",
    "\n",
    "The `movies_metadata.csv` contains an excerpt of the [IMDB Non-Commercial Data Set](https://developer.imdb.com/non-commercial-datasets/) for the movies guessed during the podcast.\n",
    "\n",
    "Build a feature matrix with one row per movie and five columns. The first column should contain how often the movie was guessed in the podcast (use your counter from Bonus Task 07). The remaining columns should contain the 'startYear', 'runtimeMinutes', 'imdb_rating', and 'num_votes' from the `movies_metdata.csv` file, respectively. Use the `url` column to link the data from Bonus Task 07 and the data in the `movies_metdata.csv` file."
   ]
  },
  {
   "cell_type": "code",
   "execution_count": null,
   "id": "addc6b09",
   "metadata": {},
   "outputs": [],
   "source": []
  },
  {
   "cell_type": "markdown",
   "id": "e0918071",
   "metadata": {},
   "source": [
    "### Bonus Task 09\n",
    "\n",
    "Provide a scatter plot between number of guesses for each movie and the remaining features in the matrix. Also report the corresponding Pearson correlation in the title of each plot."
   ]
  },
  {
   "cell_type": "code",
   "execution_count": null,
   "id": "bccbe835",
   "metadata": {},
   "outputs": [],
   "source": []
  }
 ],
 "metadata": {
  "kernelspec": {
   "display_name": "Python 3 (ipykernel)",
   "language": "python",
   "name": "python3"
  },
  "language_info": {
   "codemirror_mode": {
    "name": "ipython",
    "version": 3
   },
   "file_extension": ".py",
   "mimetype": "text/x-python",
   "name": "python",
   "nbconvert_exporter": "python",
   "pygments_lexer": "ipython3",
   "version": "3.11.6"
  }
 },
 "nbformat": 4,
 "nbformat_minor": 5
}
