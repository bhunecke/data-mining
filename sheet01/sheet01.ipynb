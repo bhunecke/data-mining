{
 "cells": [
  {
   "cell_type": "markdown",
   "id": "c2e647a4",
   "metadata": {},
   "source": [
    "# Exercise Sheet 01: Data preprocessing, visualization, correlation, statistical testing, and modeling\n",
    "\n",
    "**Introduction to Data Mining WS23/24**  \n",
    "**Bielefeld University**  \n",
    "**Alina Deriyeva, Benjamin Paaßen**  \n",
    "**Exercise Sheet Publication Date: 2023-10-23**  \n",
    "**Exercise Sheet Submission Deadline: 2023-11-03, noon (i.e. 12:00), via git or e-mail to aderiyeva@techfak.uni-bielefeld.de**\n",
    "\n",
    "**NOTE** The use of language models/AI tools is permitted IF you notify us of the use (just indicate it in the respective task) and are still able to understand and present your results. We also appreciate it if you link to a chatlog of the interaction with the language model/AI tool so that we can understand better how students tend to use these tools."
   ]
  },
  {
   "cell_type": "markdown",
   "id": "9f8967b8",
   "metadata": {},
   "source": [
    "**AUTHORS**\n",
    "\n",
    "Florian Wicher, Christopher Gerz, Torben Lambrecht, Bastian Hunecke"
   ]
  },
  {
   "cell_type": "markdown",
   "id": "2591c02c",
   "metadata": {},
   "source": [
    "## Preamble: Data set\n",
    "\n",
    "In this exercise sheet, we investigate first data exploration activities that can be performed on typical, tabular data sets, up to simple statistical testing.\n",
    "\n",
    "The file `sheet01_data.csv` contains fictional data as might be produced in an educational study. Each row represents a student participating in the study. The first column is just the student index, the second column indicates the experimental condition the student was in (`0` for control group, `1` for intervention group). The third column is the student's test result on a pre-test, the fourth column is the student's test result on a post-test.\n",
    "\n",
    "The following line loads this raw data and prints it."
   ]
  },
  {
   "cell_type": "code",
   "execution_count": 2,
   "id": "d0d93f7c",
   "metadata": {},
   "outputs": [],
   "source": [
    "import numpy as np\n",
    "import matplotlib.pyplot as plt\n",
    "import scipy"
   ]
  },
  {
   "cell_type": "code",
   "execution_count": 3,
   "id": "3cc2e58d",
   "metadata": {},
   "outputs": [
    {
     "data": {
      "text/plain": [
       "array([[  0.,   0.,  27.,  40.],\n",
       "       [  1.,   0.,  31.,  34.],\n",
       "       [  2.,   0.,  30.,  nan],\n",
       "       [  3.,   0.,  20.,  nan],\n",
       "       [  4.,   0.,  41.,  54.],\n",
       "       [  5.,   0.,  39.,  51.],\n",
       "       [  6.,   0.,  20.,  33.],\n",
       "       [  7.,   0.,  27.,  36.],\n",
       "       [  8.,   0.,  79.,  83.],\n",
       "       [  9.,   0.,  33.,  46.],\n",
       "       [ 10.,   0.,  22.,  29.],\n",
       "       [ 11.,   0.,  22.,  41.],\n",
       "       [ 12.,   0.,  29.,  nan],\n",
       "       [ 13.,   0.,  25.,  nan],\n",
       "       [ 14.,   0.,  41.,  47.],\n",
       "       [ 15.,   0.,  23.,  36.],\n",
       "       [ 16.,   0.,  17.,  30.],\n",
       "       [ 17.,   0.,  93., 100.],\n",
       "       [ 18.,   0.,  34.,  40.],\n",
       "       [ 19.,   0.,  23.,  27.],\n",
       "       [ 20.,   0.,  48.,  53.],\n",
       "       [ 21.,   0.,  19.,  26.],\n",
       "       [ 22.,   0.,  28.,  33.],\n",
       "       [ 23.,   0.,  38.,  46.],\n",
       "       [ 24.,   0.,  22.,  34.],\n",
       "       [ 25.,   0.,  34.,  45.],\n",
       "       [ 26.,   0.,  36.,  49.],\n",
       "       [ 27.,   0.,  33.,  47.],\n",
       "       [ 28.,   0.,  40.,  41.],\n",
       "       [ 29.,   0.,  39.,  52.],\n",
       "       [ 30.,   1.,  24.,  50.],\n",
       "       [ 31.,   1.,  38.,  62.],\n",
       "       [ 32.,   1.,  34.,  51.],\n",
       "       [ 33.,   1.,  37.,  nan],\n",
       "       [ 34.,   1.,  31.,  44.],\n",
       "       [ 35.,   1.,  37.,  57.],\n",
       "       [ 36.,   1.,  25.,  50.],\n",
       "       [ 37.,   1.,  23.,  37.],\n",
       "       [ 38.,   1.,  12.,  38.],\n",
       "       [ 39.,   1.,  31.,  56.],\n",
       "       [ 40.,   1.,  36.,  46.],\n",
       "       [ 41.,   1.,  34.,  48.],\n",
       "       [ 42.,   1.,  85., 100.],\n",
       "       [ 43.,   1.,  41.,  59.],\n",
       "       [ 44.,   1.,  14.,  37.],\n",
       "       [ 45.,   1.,   7.,  29.],\n",
       "       [ 46.,   1.,  30.,  54.],\n",
       "       [ 47.,   1.,  42.,  62.],\n",
       "       [ 48.,   1.,  25.,  44.],\n",
       "       [ 49.,   1.,  29.,  53.],\n",
       "       [ 50.,   1.,  17.,  40.],\n",
       "       [ 51.,   1.,  40.,  63.],\n",
       "       [ 52.,   1.,  29.,  46.],\n",
       "       [ 53.,   1.,  33.,  nan],\n",
       "       [ 54.,   1.,  24.,  50.],\n",
       "       [ 55.,   1.,  38.,  53.],\n",
       "       [ 56.,   1.,  26.,  48.],\n",
       "       [ 57.,   1.,  41.,  nan],\n",
       "       [ 58.,   1.,  37.,  65.],\n",
       "       [ 59.,   1.,  41.,  61.]])"
      ]
     },
     "execution_count": 3,
     "metadata": {},
     "output_type": "execute_result"
    }
   ],
   "source": [
    "X = np.loadtxt('sheet01_data.csv', skiprows = 1, delimiter = '\\t')\n",
    "X"
   ]
  },
  {
   "cell_type": "markdown",
   "id": "4e93d467",
   "metadata": {},
   "source": [
    "### Task 01.01\n",
    "\n",
    "Write python code to automatically identify outliers, which are defined as any students with a pre-test score higher than 3 standard deviations above the mean. Write python code that removes these outliers from the data set."
   ]
  },
  {
   "cell_type": "code",
   "execution_count": 4,
   "id": "04b3b0e2",
   "metadata": {},
   "outputs": [
    {
     "name": "stdout",
     "output_type": "stream",
     "text": [
      "The outliers are:\n",
      "[ 8.  0. 79. 83.]\n",
      "[ 17.   0.  93. 100.]\n",
      "[ 42.   1.  85. 100.]\n",
      "\n",
      "\n",
      "The dataset without the outliers:\n",
      " [[ 0.  0. 27. 40.]\n",
      " [ 1.  0. 31. 34.]\n",
      " [ 2.  0. 30. nan]\n",
      " [ 3.  0. 20. nan]\n",
      " [ 4.  0. 41. 54.]\n",
      " [ 5.  0. 39. 51.]\n",
      " [ 6.  0. 20. 33.]\n",
      " [ 7.  0. 27. 36.]\n",
      " [ 9.  0. 33. 46.]\n",
      " [10.  0. 22. 29.]\n",
      " [11.  0. 22. 41.]\n",
      " [12.  0. 29. nan]\n",
      " [13.  0. 25. nan]\n",
      " [14.  0. 41. 47.]\n",
      " [15.  0. 23. 36.]\n",
      " [16.  0. 17. 30.]\n",
      " [18.  0. 34. 40.]\n",
      " [19.  0. 23. 27.]\n",
      " [20.  0. 48. 53.]\n",
      " [21.  0. 19. 26.]\n",
      " [22.  0. 28. 33.]\n",
      " [23.  0. 38. 46.]\n",
      " [24.  0. 22. 34.]\n",
      " [25.  0. 34. 45.]\n",
      " [26.  0. 36. 49.]\n",
      " [27.  0. 33. 47.]\n",
      " [28.  0. 40. 41.]\n",
      " [29.  0. 39. 52.]\n",
      " [30.  1. 24. 50.]\n",
      " [31.  1. 38. 62.]\n",
      " [32.  1. 34. 51.]\n",
      " [33.  1. 37. nan]\n",
      " [34.  1. 31. 44.]\n",
      " [35.  1. 37. 57.]\n",
      " [36.  1. 25. 50.]\n",
      " [37.  1. 23. 37.]\n",
      " [38.  1. 12. 38.]\n",
      " [39.  1. 31. 56.]\n",
      " [40.  1. 36. 46.]\n",
      " [41.  1. 34. 48.]\n",
      " [43.  1. 41. 59.]\n",
      " [44.  1. 14. 37.]\n",
      " [45.  1.  7. 29.]\n",
      " [46.  1. 30. 54.]\n",
      " [47.  1. 42. 62.]\n",
      " [48.  1. 25. 44.]\n",
      " [49.  1. 29. 53.]\n",
      " [50.  1. 17. 40.]\n",
      " [51.  1. 40. 63.]\n",
      " [52.  1. 29. 46.]\n",
      " [53.  1. 33. nan]\n",
      " [54.  1. 24. 50.]\n",
      " [55.  1. 38. 53.]\n",
      " [56.  1. 26. 48.]\n",
      " [57.  1. 41. nan]\n",
      " [58.  1. 37. 65.]\n",
      " [59.  1. 41. 61.]]\n"
     ]
    }
   ],
   "source": [
    "pre_test_mean = np.mean(X, axis=0)[2]\n",
    "std_dev = np.std(X, axis=0)[2]\n",
    "\n",
    "outlier = pre_test_mean+(3*std_dev)\n",
    "print(\"The outliers are:\")\n",
    "idx = []\n",
    "for i in X:\n",
    "    if i[2] > outlier:\n",
    "        idx.append(int(i[0]))\n",
    "        print(i)\n",
    "idx =  sorted(idx, reverse=True)\n",
    "print(\"\\n\")\n",
    "new_X = np.delete(X, idx,0)\n",
    "print(\"The dataset without the outliers:\\n\", new_X)\n",
    " \n"
   ]
  },
  {
   "cell_type": "markdown",
   "id": "67a93666",
   "metadata": {},
   "source": [
    "Print how many points are left in the control group and the intervention group after outlier removal"
   ]
  },
  {
   "cell_type": "code",
   "execution_count": 5,
   "id": "3a11dc77",
   "metadata": {},
   "outputs": [
    {
     "name": "stdout",
     "output_type": "stream",
     "text": [
      "number of points in control group: 28\n",
      "number of points in intervention group: 29\n"
     ]
    }
   ],
   "source": [
    "control_count = 0\n",
    "intervention_count = 0\n",
    "\n",
    "for i in new_X:\n",
    "    if (i[1] == 0):\n",
    "        control_count = control_count+1\n",
    "    else:\n",
    "        intervention_count = intervention_count+1\n",
    "\n",
    "print(\"number of points in control group:\", control_count)\n",
    "print(\"number of points in intervention group:\", intervention_count)"
   ]
  },
  {
   "cell_type": "markdown",
   "id": "b4d3cbdb",
   "metadata": {},
   "source": [
    "### Task 01.02\n",
    "\n",
    "Write python code to compute the mean pre- and post-test score, as well as the respective standard deviation, of the control group and the intervention group. Be aware of nan values. Print the results."
   ]
  },
  {
   "cell_type": "code",
   "execution_count": 6,
   "id": "64cc8bb6",
   "metadata": {},
   "outputs": [
    {
     "name": "stdout",
     "output_type": "stream",
     "text": [
      "mean of pre-test score of the control group: 30.035714285714285\n",
      "mean of post-test score of the control group: 40.416666666666664 \n",
      "\n",
      "standard deviation of pre-test score of the control group: 8.033332980495095\n",
      "standard deviation of post-test score of the control group: 8.396014266040497 \n",
      "\n",
      "mean of pre-test score of the intervention group: 30.20689655172414\n",
      "mean of post-test score of the intervention group: 50.11538461538461 \n",
      "\n",
      "standard deviation of pre-test score of the intervention group: 9.147750092122058\n",
      "standard deviation of post-test score of the intervention group: 9.069504791319277\n"
     ]
    }
   ],
   "source": [
    "control_group = []\n",
    "intervention_group = []\n",
    "\n",
    "for i in new_X:\n",
    "    if i[1] == 0:\n",
    "        control_group.append(i)\n",
    "    else:\n",
    "        intervention_group.append(i)\n",
    "\n",
    "pre_control_mean = np.mean(control_group, axis=0)[2]\n",
    "post_control_mean = np.nanmean(control_group, axis=0)[3]\n",
    "pre_intervention_mean = np.mean(intervention_group, axis=0)[2]\n",
    "post_intervention_mean = np.nanmean(intervention_group, axis=0)[3]\n",
    "\n",
    "pre_control_std = np.std(control_group, axis=0)[2]\n",
    "post_control_std = np.nanstd(control_group, axis=0)[3]\n",
    "pre_intervention_std = np.std(intervention_group, axis=0)[2]\n",
    "post_intervention_std = np.nanstd(intervention_group, axis=0)[3]\n",
    "\n",
    "\n",
    "print(\"mean of pre-test score of the control group:\", pre_control_mean)\n",
    "print(\"mean of post-test score of the control group:\", post_control_mean, \"\\n\")\n",
    "\n",
    "print(\"standard deviation of pre-test score of the control group:\", pre_control_std)\n",
    "print(\"standard deviation of post-test score of the control group:\", post_control_std, \"\\n\")\n",
    "\n",
    "\n",
    "print(\"mean of pre-test score of the intervention group:\", pre_intervention_mean)\n",
    "print(\"mean of post-test score of the intervention group:\", post_intervention_mean, \"\\n\")\n",
    "\n",
    "print(\"standard deviation of pre-test score of the intervention group:\", pre_intervention_std)\n",
    "print(\"standard deviation of post-test score of the intervention group:\", post_intervention_std)\n"
   ]
  },
  {
   "cell_type": "markdown",
   "id": "f98eecb2",
   "metadata": {},
   "source": [
    "### Task 01.03\n",
    "\n",
    "Write python code to impute the missing values (that means: nan values) in the post test scores by the mean of the data. HOWEVER, the imputation should be done separately for the control and the intervention group."
   ]
  },
  {
   "cell_type": "code",
   "execution_count": 7,
   "id": "bc00cfc0",
   "metadata": {},
   "outputs": [
    {
     "name": "stdout",
     "output_type": "stream",
     "text": [
      "[[ 0.          0.         27.         40.        ]\n",
      " [ 1.          0.         31.         34.        ]\n",
      " [ 2.          0.         30.         40.41666667]\n",
      " [ 3.          0.         20.         40.41666667]\n",
      " [ 4.          0.         41.         54.        ]\n",
      " [ 5.          0.         39.         51.        ]\n",
      " [ 6.          0.         20.         33.        ]\n",
      " [ 7.          0.         27.         36.        ]\n",
      " [ 9.          0.         33.         46.        ]\n",
      " [10.          0.         22.         29.        ]\n",
      " [11.          0.         22.         41.        ]\n",
      " [12.          0.         29.         40.41666667]\n",
      " [13.          0.         25.         40.41666667]\n",
      " [14.          0.         41.         47.        ]\n",
      " [15.          0.         23.         36.        ]\n",
      " [16.          0.         17.         30.        ]\n",
      " [18.          0.         34.         40.        ]\n",
      " [19.          0.         23.         27.        ]\n",
      " [20.          0.         48.         53.        ]\n",
      " [21.          0.         19.         26.        ]\n",
      " [22.          0.         28.         33.        ]\n",
      " [23.          0.         38.         46.        ]\n",
      " [24.          0.         22.         34.        ]\n",
      " [25.          0.         34.         45.        ]\n",
      " [26.          0.         36.         49.        ]\n",
      " [27.          0.         33.         47.        ]\n",
      " [28.          0.         40.         41.        ]\n",
      " [29.          0.         39.         52.        ]\n",
      " [30.          1.         24.         50.        ]\n",
      " [31.          1.         38.         62.        ]\n",
      " [32.          1.         34.         51.        ]\n",
      " [33.          1.         37.         50.11538462]\n",
      " [34.          1.         31.         44.        ]\n",
      " [35.          1.         37.         57.        ]\n",
      " [36.          1.         25.         50.        ]\n",
      " [37.          1.         23.         37.        ]\n",
      " [38.          1.         12.         38.        ]\n",
      " [39.          1.         31.         56.        ]\n",
      " [40.          1.         36.         46.        ]\n",
      " [41.          1.         34.         48.        ]\n",
      " [43.          1.         41.         59.        ]\n",
      " [44.          1.         14.         37.        ]\n",
      " [45.          1.          7.         29.        ]\n",
      " [46.          1.         30.         54.        ]\n",
      " [47.          1.         42.         62.        ]\n",
      " [48.          1.         25.         44.        ]\n",
      " [49.          1.         29.         53.        ]\n",
      " [50.          1.         17.         40.        ]\n",
      " [51.          1.         40.         63.        ]\n",
      " [52.          1.         29.         46.        ]\n",
      " [53.          1.         33.         50.11538462]\n",
      " [54.          1.         24.         50.        ]\n",
      " [55.          1.         38.         53.        ]\n",
      " [56.          1.         26.         48.        ]\n",
      " [57.          1.         41.         50.11538462]\n",
      " [58.          1.         37.         65.        ]\n",
      " [59.          1.         41.         61.        ]]\n"
     ]
    }
   ],
   "source": [
    "# Imputation by using the mean of the post-test score for each group\n",
    "\n",
    "control_group = []\n",
    "intervention_group = []\n",
    "\n",
    "for i in new_X:\n",
    "    if i[1] == 0:\n",
    "        control_group.append(i)\n",
    "    else:\n",
    "        intervention_group.append(i)\n",
    "\n",
    "control_group_mean = np.nanmean(control_group, axis=0)[3]\n",
    "intervention_group_mean = np.nanmean(intervention_group, axis=0)[3]\n",
    "\n",
    "for i in new_X:\n",
    "    if np.isnan(i[3]):\n",
    "        if i[1] == 0:\n",
    "            i[3] = control_group_mean\n",
    "        else:\n",
    "            i[3] = intervention_group_mean\n",
    "\n",
    "print(new_X)"
   ]
  },
  {
   "cell_type": "markdown",
   "id": "6dc11501",
   "metadata": {},
   "source": [
    "## Data Visualization"
   ]
  },
  {
   "cell_type": "markdown",
   "id": "e14b18c1",
   "metadata": {},
   "source": [
    "### Task 01.04\n",
    "\n",
    "Display two scatter plots (via `matplotlib.pyplot.scatter`), one for the control group and one for the intervention group, with pre-test score on the x-axis and post-test score on the y-axis. Label the axis and give the plots titles. Interpret these plot: Do you believe that pre- and post-test score correlate?"
   ]
  },
  {
   "cell_type": "code",
   "execution_count": 8,
   "id": "73d743b5",
   "metadata": {},
   "outputs": [
    {
     "data": {
      "image/png": "[encoded data removed]",
      "text/plain": [
       "<Figure size 640x480 with 1 Axes>"
      ]
     },
     "metadata": {},
     "output_type": "display_data"
    },
    {
     "data": {
      "image/png": "[encoded data removed]",
      "text/plain": [
       "<Figure size 640x480 with 1 Axes>"
      ]
     },
     "metadata": {},
     "output_type": "display_data"
    }
   ],
   "source": [
    "control_group_pre = []\n",
    "control_group_post = []\n",
    "intervention_group_pre = []\n",
    "intervention_group_post = []\n",
    "\n",
    "for i in new_X:\n",
    "    if i[1] == 0:\n",
    "        control_group_pre.append(i[2])\n",
    "        control_group_post.append(i[3])\n",
    "    else:\n",
    "        intervention_group_pre.append(i[2])\n",
    "        intervention_group_post.append(i[3])\n",
    "\n",
    "plt.scatter(control_group_pre, control_group_post)\n",
    "plt.title(\"control group\")\n",
    "plt.xlabel(\"pre-test sore\")\n",
    "plt.ylabel(\"post-test score\")\n",
    "plt.show()\n",
    "\n",
    "plt.scatter(intervention_group_pre, intervention_group_post)\n",
    "plt.title(\"intervention group\")\n",
    "plt.xlabel(\"pre-test sore\")\n",
    "plt.ylabel(\"post-test score\")\n",
    "plt.show()\n"
   ]
  },
  {
   "cell_type": "markdown",
   "id": "6fde7831",
   "metadata": {},
   "source": [
    "Yes we think that the pre-test score and post-test score correlate because in the plot we can see that a higher pre-test score usually indicates a higher post-test score."
   ]
  },
  {
   "cell_type": "markdown",
   "id": "cb85469c",
   "metadata": {},
   "source": [
    "### Task 01.05\n",
    "\n",
    "Display a bar plot with four bars (with error bars): pre-test mean (and standard error) for control and intervention group; and post-test mean (with standard error) for control and intervention group. Label the axes. Interpret this plot: Where are significant differences, do you think? What is your explanation for these differences?"
   ]
  },
  {
   "cell_type": "code",
   "execution_count": 9,
   "id": "b449f058",
   "metadata": {},
   "outputs": [
    {
     "data": {
      "image/png": "[encoded data removed]",
      "text/plain": [
       "<Figure size 640x480 with 1 Axes>"
      ]
     },
     "metadata": {},
     "output_type": "display_data"
    }
   ],
   "source": [
    "x = np.array([\"pre control\", \"post control\", \"pre intervention\", \"post intervention\"])\n",
    "means = np.array([pre_control_mean, post_control_mean, pre_intervention_mean, post_intervention_mean])\n",
    "\n",
    "pre_control_error = pre_control_std / np.sqrt(control_count)\n",
    "post_control_error = post_control_std / np.sqrt(control_count)\n",
    "pre_intervention_error = pre_intervention_std / np.sqrt(intervention_count)\n",
    "post_intervention_error = post_intervention_std / np.sqrt(intervention_count)\n",
    "\n",
    "error = np.array([pre_control_error, post_control_error, pre_intervention_error, post_intervention_error])\n",
    "\n",
    "plt.bar(x, means)\n",
    "plt.ylabel(\"test score mean\")\n",
    "plt.errorbar(x, means, yerr=error, fmt=\"o\", color=\"r\")\n",
    "\n",
    "plt.show()"
   ]
  },
  {
   "cell_type": "markdown",
   "id": "02752dcc",
   "metadata": {},
   "source": [
    "The siginifcant differences are between the post control group and the post intervention group. The pre control and pre intervention group are similar because they have not learned\n",
    "anything yet and thus score very similar on the test. Since the post intervention group scores higher than the post control group, we can assume that the intervention group\n",
    "learned more with their method.\n"
   ]
  },
  {
   "cell_type": "markdown",
   "id": "96c8b00a",
   "metadata": {},
   "source": [
    "### Task 01.06\n",
    "\n",
    "Display a bar plot with two bars (with error bars): the difference between post- and pre-test score for the control group (with standard error) and for the intervention group (with standard error). Label the axes. Interpret this plot: Do you think the difference of post- and pre-test scores significantly differs between control and intervention group?"
   ]
  },
  {
   "cell_type": "code",
   "execution_count": 9,
   "id": "95af15e3",
   "metadata": {},
   "outputs": [
    {
     "data": {
      "image/png": "[encoded data removed]",
      "text/plain": [
       "<Figure size 640x480 with 1 Axes>"
      ]
     },
     "metadata": {},
     "output_type": "display_data"
    }
   ],
   "source": [
    "x_axis = np.array([\"control group\", \"intervention group\"])\n",
    "difference = np.array([post_control_mean - pre_control_mean, post_intervention_mean - pre_intervention_mean])\n",
    "\n",
    "error = np.array([abs(post_control_error - pre_control_error), abs(post_intervention_error - pre_intervention_error)])\n",
    "\n",
    "plt.bar(x_axis, difference)\n",
    "plt.ylabel(\"score difference between pre-test and post-test\")\n",
    "plt.errorbar(x_axis, difference, yerr=error, fmt=\"o\", color=\"r\")\n",
    "plt.show()"
   ]
  },
  {
   "cell_type": "markdown",
   "id": "3886ad85",
   "metadata": {},
   "source": [
    "Yes the difference between control and intervention group differs significantly. In the plot we can see that the intervention group scored higher in the test than the control group compared to their previous test scorea."
   ]
  },
  {
   "cell_type": "markdown",
   "id": "296e5b5e",
   "metadata": {},
   "source": [
    "### Task 01.07 (Bonus task)\n",
    "\n",
    "Display a box plot with four boxes: pre-test results in the control and intervention group, and post-test results in the control and intervention group. Label the axes."
   ]
  },
  {
   "cell_type": "code",
   "execution_count": 29,
   "id": "7d6ec57c",
   "metadata": {},
   "outputs": [
    {
     "data": {
      "image/png": "[encoded data removed]",
      "text/plain": [
       "<Figure size 640x480 with 1 Axes>"
      ]
     },
     "metadata": {},
     "output_type": "display_data"
    }
   ],
   "source": [
    "pre_intervention_values = new_X[new_X[:,1] == 1][:,2]\n",
    "pre_control_values = new_X[new_X[:,1] == 0][:,2]\n",
    "post_intervention_values = new_X[new_X[:,1] == 1][:,3]\n",
    "post_control_values = new_X[new_X[:,1] == 0][:,3]\n",
    "\n",
    "all_values = [pre_control_values, post_control_values, pre_intervention_values, post_intervention_values]\n",
    "\n",
    "plt.boxplot(all_values)\n",
    "\n",
    "plt.xticks([1,2,3,4], [\"pre control\", \"post control\", \"pre intervention\", \"post intervention\"])\n",
    "plt.ylabel(\"Test score\")\n",
    "plt.show()"
   ]
  },
  {
   "cell_type": "markdown",
   "id": "874ce4ea",
   "metadata": {},
   "source": [
    "### Task 01.08 (Bonus Task)\n",
    "\n",
    "Display a box plot with two boxes: difference between post-test and pre-test scores for the control group and the intervention group."
   ]
  },
  {
   "cell_type": "code",
   "execution_count": 30,
   "id": "084699cb",
   "metadata": {},
   "outputs": [
    {
     "data": {
      "image/png": "[encoded data removed]",
      "text/plain": [
       "<Figure size 640x480 with 1 Axes>"
      ]
     },
     "metadata": {},
     "output_type": "display_data"
    }
   ],
   "source": [
    "control_diff = []\n",
    "intervention_diff = []\n",
    "\n",
    "for i in range(len(pre_control_values)):\n",
    "    control_diff.append(post_control_values[i] - pre_control_values[i])\n",
    "\n",
    "for i in range(len(pre_intervention_values)):\n",
    "    intervention_diff.append(post_intervention_values[i] - pre_intervention_values[i])\n",
    "    \n",
    "differences = [control_diff, intervention_diff]\n",
    "plt.boxplot(differences)\n",
    "\n",
    "plt.xticks([1,2], [\"control group\", \"intervention group\"])\n",
    "plt.ylabel(\"score difference between pre-test and post-test\")\n",
    "plt.show()"
   ]
  },
  {
   "cell_type": "markdown",
   "id": "6e4a6bbf",
   "metadata": {},
   "source": [
    "## Statistical Testing"
   ]
  },
  {
   "cell_type": "markdown",
   "id": "2679fdb5",
   "metadata": {},
   "source": [
    "### Task 01.09\n",
    "\n",
    "Write a python function to compute the Pearson correlation between two arrays of the same size."
   ]
  },
  {
   "cell_type": "code",
   "execution_count": 12,
   "id": "416d471f",
   "metadata": {},
   "outputs": [
    {
     "data": {
      "text/plain": [
       "0.43250840851181904"
      ]
     },
     "execution_count": 12,
     "metadata": {},
     "output_type": "execute_result"
    }
   ],
   "source": [
    "array_a = np.random.rand(5)\n",
    "array_b = np.random.rand(5)\n",
    "\n",
    "matrix_a = np.random.rand(5,2)\n",
    "matrix_b = np.random.rand(5,2)\n",
    "\n",
    "\n",
    "#wikipedia def\n",
    "def pearson_corr_a(a,b):\n",
    "    return np.divide((np.cov(a,b)), (np.multiply(np.var(a), np.var(b))))\n",
    "\n",
    "#vl def\n",
    "def linear_correlation_coeff(x,y):\n",
    "    x = np.array(x)\n",
    "    y = np.array(y)\n",
    "    \n",
    "    m = x.size\n",
    "    \n",
    "    r = 0\n",
    "    \n",
    "    mu_x = np.mean(x)\n",
    "    mu_y = np.mean(y)\n",
    "    \n",
    "    sigma_x = np.std(x)\n",
    "    sigma_y = np.std(y)\n",
    "    \n",
    "    for i in range(m):\n",
    "        r += ((x[i] - mu_x) / sigma_x) * ((y[i] - mu_y) / sigma_y)\n",
    "        \n",
    "    return r / m\n",
    "\n",
    "#for testing\n",
    "linear_correlation_coeff(array_a, array_b)"
   ]
  },
  {
   "cell_type": "code",
   "execution_count": 13,
   "id": "fc5b7e38",
   "metadata": {},
   "outputs": [],
   "source": [
    "data = new_X\n"
   ]
  },
  {
   "cell_type": "markdown",
   "id": "b451ceff",
   "metadata": {},
   "source": [
    "### Task 01.10\n",
    "\n",
    "Use your function to compute the Pearson correlation between pre-test and post-test scores for both control and intervention condition and print the scores.\n",
    "\n",
    "Interpret the strength of the correlation using the following rule of thumb from [Mukaka (2012)](https://www.ajol.info/index.php/mmj/article/download/81576/71739):\n",
    "\n",
    "* A correlation of $0.3 < |r| \\leq 0.5$ is considered small.\n",
    "* A correlation of $0.5 < |r| \\leq 0.7$ is considered moderate.\n",
    "* A correlation of $0.7 < |r| \\leq 0.9$ is considered high.\n",
    "* A correlation of $0.9 < |r| \\leq 1.0$ is considered very high."
   ]
  },
  {
   "cell_type": "code",
   "execution_count": 14,
   "id": "95846faa",
   "metadata": {},
   "outputs": [
    {
     "name": "stdout",
     "output_type": "stream",
     "text": [
      "R:  0.7243706318977319\n",
      "High correlation\n"
     ]
    }
   ],
   "source": [
    "pre_test = [i[2] for i in data]\n",
    "post_test = [i[3] for i in data]\n",
    "\n",
    "r =  np.abs(linear_correlation_coeff(pre_test, post_test))\n",
    "print(\"R: \", r)\n",
    "\n",
    "if r > 0.3 and r <= 0.5:\n",
    "    print(\"Small correlation\")\n",
    "elif r > 0.5 and r <= 0.7:\n",
    "    print(\"Moderate correlation\")\n",
    "elif r > 0.7 and r <= 0.9:\n",
    "    print(\"High correlation\")\n",
    "elif r > 0.9 and r <= 1.0:\n",
    "    print(\"Very High correlation\")\n",
    "    "
   ]
  },
  {
   "cell_type": "markdown",
   "id": "22259ca3",
   "metadata": {},
   "source": [
    "Validate your scores by computing the Pearson correlation again with `scipy.stats.pearsonr`. Print both `r` and the `p` value returned by the function for both the control and the intervention condition. Are the correlations statistically significant at $0.01$ level?"
   ]
  },
  {
   "cell_type": "code",
   "execution_count": 45,
   "id": "dce1a401",
   "metadata": {},
   "outputs": [
    {
     "name": "stdout",
     "output_type": "stream",
     "text": [
      "r =  0.7243706318977322\n",
      "p =  1.9030973527825513e-10\n"
     ]
    }
   ],
   "source": [
    "from scipy import stats\n",
    "stats = stats.pearsonr(pre_test, post_test)\n",
    "\n",
    "print(\"r = \", stats[0])\n",
    "print(\"p = \", stats[1])"
   ]
  },
  {
   "cell_type": "markdown",
   "id": "8a73b160",
   "metadata": {},
   "source": [
    "### Task 01.11\n",
    "\n",
    "Write a python function that performs a Welch $t$-test. In particular, your function should:\n",
    "1. compute the number of data points, the mean, and the standard deviation of both samples (use the `ddof = 1` parameter for the `np.std` function).\n",
    "2. compute the pooled standard deviation as\n",
    "\\begin{equation}\n",
    "\\sigma_\\text{pooled} = \\sqrt{\\frac{\\sigma_x^2}{n_x} + \\frac{\\sigma_y^2}{n_y}}\n",
    "\\end{equation}\n",
    "  where $n_x$ and $n_y$ are the number of data points in the two samples and $\\sigma_x$ and $\\sigma_y$ are the respective standard deviations.\n",
    "3. compute the $t$-statistic as \n",
    "\\begin{equation}\n",
    "t = -\\Big|\\frac{\\mu_x - \\mu_y}{\\sigma_\\text{pooled}}\\Big|\n",
    "\\end{equation}\n",
    "  where $\\mu_x$ and $\\mu_y$ are the means of the two samples.\n",
    "4. compute the number of degree of freedom via the Welch-Satterthwaite equation, meaning:\n",
    "\\begin{equation}\n",
    "\\text{df} = \\frac{\\sigma_\\text{pooled}^4}{\\frac{\\sigma_x^4}{n_x^2\\cdot(n_x - 1)} + \\frac{\\sigma_y^4}{n_y^2\\cdot(n_y - 1)}}\n",
    "\\end{equation}\n",
    "5. compute $p$ as twice the probability of any $t$ value equal or smaller to your value using the `cdf` function of `scipy.stats.t` with the number of freedoms as computed in the previous step.\n",
    "\n",
    "Your function should return both $t$ and $p$."
   ]
  },
  {
   "cell_type": "code",
   "execution_count": 51,
   "id": "93892529",
   "metadata": {},
   "outputs": [],
   "source": [
    "from scipy.stats import t\n",
    "\n",
    "def compute_pooled_std(x,y):\n",
    "    \n",
    "    #compute size of arrays and std\n",
    "    size_x = x.size\n",
    "    size_y = y.size\n",
    "    \n",
    "    std_x = np.std(x, ddof = 1)\n",
    "    std_y = np.std(y, ddof = 1)\n",
    "    \n",
    "    op_a = np.square(std_x) / size_x\n",
    "    op_b = np.square(std_y) / size_y\n",
    "    \n",
    "    return np.sqrt((op_a+op_b))\n",
    "\n",
    "def compute_t(x,y):\n",
    "    \n",
    "    mean_x = np.mean(x)\n",
    "    mean_y = np.mean(y)\n",
    "    \n",
    "    pooled_std = compute_pooled_std(x,y)\n",
    "    \n",
    "    t = -np.abs( ( (mean_x - mean_y) / pooled_std))\n",
    "    \n",
    "    return t\n",
    "\n",
    "def compute_df(x,y):\n",
    "    \n",
    "    pooled_std = compute_pooled_std(x,y)\n",
    "    \n",
    "    std_x_4 = np.std(x, ddof = 1)**4\n",
    "    std_y_4 = np.std(y, ddof = 1)**4\n",
    "    \n",
    "    size_x = x.size\n",
    "    size_y = y.size\n",
    "    \n",
    "    op_a = std_x_4 / (size_x**2 * (size_x-1))\n",
    "    op_b = std_y_4 / (size_y**2 * (size_y-1))\n",
    "    \n",
    "    df =  (pooled_std ** 4) / (op_a + op_b)\n",
    "    \n",
    "    return df\n",
    "\n",
    "\n",
    "def compute_p_t(x,y):\n",
    "    \n",
    "    t_v = compute_t(x,y)\n",
    "    df = compute_df(x,y)\n",
    "    p = t.cdf(t_v, df)\n",
    "    \n",
    "    return (t_v, p*2)"
   ]
  },
  {
   "cell_type": "code",
   "execution_count": 50,
   "id": "3c0817fa",
   "metadata": {},
   "outputs": [
    {
     "ename": "AttributeError",
     "evalue": "'numpy.float64' object has no attribute 'cdf'",
     "output_type": "error",
     "traceback": [
      "\u001b[1;31m---------------------------------------------------------------------------\u001b[0m",
      "\u001b[1;31mAttributeError\u001b[0m                            Traceback (most recent call last)",
      "\u001b[1;32mc:\\Users\\chris\\Desktop\\Uni\\WS 23 7. Semester\\Data_Mining\\data-mining\\sheet01\\sheet01.ipynb Cell 38\u001b[0m line \u001b[0;36m4\n\u001b[0;32m      <a href='vscode-notebook-cell:/c%3A/Users/chris/Desktop/Uni/WS%2023%207.%20Semester/Data_Mining/data-mining/sheet01/sheet01.ipynb#Y151sZmlsZQ%3D%3D?line=0'>1</a>\u001b[0m a \u001b[39m=\u001b[39m np\u001b[39m.\u001b[39mrandom\u001b[39m.\u001b[39mrand(\u001b[39m5\u001b[39m)\n\u001b[0;32m      <a href='vscode-notebook-cell:/c%3A/Users/chris/Desktop/Uni/WS%2023%207.%20Semester/Data_Mining/data-mining/sheet01/sheet01.ipynb#Y151sZmlsZQ%3D%3D?line=1'>2</a>\u001b[0m b \u001b[39m=\u001b[39m np\u001b[39m.\u001b[39mrandom\u001b[39m.\u001b[39mrand(\u001b[39m5\u001b[39m)\n\u001b[1;32m----> <a href='vscode-notebook-cell:/c%3A/Users/chris/Desktop/Uni/WS%2023%207.%20Semester/Data_Mining/data-mining/sheet01/sheet01.ipynb#Y151sZmlsZQ%3D%3D?line=3'>4</a>\u001b[0m t,p \u001b[39m=\u001b[39m compute_p_t(a,b)\n\u001b[0;32m      <a href='vscode-notebook-cell:/c%3A/Users/chris/Desktop/Uni/WS%2023%207.%20Semester/Data_Mining/data-mining/sheet01/sheet01.ipynb#Y151sZmlsZQ%3D%3D?line=5'>6</a>\u001b[0m \u001b[39m#validation\u001b[39;00m\n\u001b[0;32m      <a href='vscode-notebook-cell:/c%3A/Users/chris/Desktop/Uni/WS%2023%207.%20Semester/Data_Mining/data-mining/sheet01/sheet01.ipynb#Y151sZmlsZQ%3D%3D?line=7'>8</a>\u001b[0m val_result \u001b[39m=\u001b[39m scipy\u001b[39m.\u001b[39mstats\u001b[39m.\u001b[39mttest_ind(a,b, equal_var\u001b[39m=\u001b[39m\u001b[39mFalse\u001b[39;00m)\n",
      "\u001b[1;32mc:\\Users\\chris\\Desktop\\Uni\\WS 23 7. Semester\\Data_Mining\\data-mining\\sheet01\\sheet01.ipynb Cell 38\u001b[0m line \u001b[0;36m5\n\u001b[0;32m     <a href='vscode-notebook-cell:/c%3A/Users/chris/Desktop/Uni/WS%2023%207.%20Semester/Data_Mining/data-mining/sheet01/sheet01.ipynb#Y151sZmlsZQ%3D%3D?line=47'>48</a>\u001b[0m t_v \u001b[39m=\u001b[39m compute_t(x,y)\n\u001b[0;32m     <a href='vscode-notebook-cell:/c%3A/Users/chris/Desktop/Uni/WS%2023%207.%20Semester/Data_Mining/data-mining/sheet01/sheet01.ipynb#Y151sZmlsZQ%3D%3D?line=48'>49</a>\u001b[0m df \u001b[39m=\u001b[39m compute_df(x,y)\n\u001b[1;32m---> <a href='vscode-notebook-cell:/c%3A/Users/chris/Desktop/Uni/WS%2023%207.%20Semester/Data_Mining/data-mining/sheet01/sheet01.ipynb#Y151sZmlsZQ%3D%3D?line=49'>50</a>\u001b[0m p \u001b[39m=\u001b[39m t\u001b[39m.\u001b[39;49mcdf(t_v, df)\n\u001b[0;32m     <a href='vscode-notebook-cell:/c%3A/Users/chris/Desktop/Uni/WS%2023%207.%20Semester/Data_Mining/data-mining/sheet01/sheet01.ipynb#Y151sZmlsZQ%3D%3D?line=51'>52</a>\u001b[0m \u001b[39mreturn\u001b[39;00m (t_v, p\u001b[39m*\u001b[39m\u001b[39m2\u001b[39m)\n",
      "\u001b[1;31mAttributeError\u001b[0m: 'numpy.float64' object has no attribute 'cdf'"
     ]
    }
   ],
   "source": [
    "a = np.random.rand(5)\n",
    "b = np.random.rand(5)\n",
    "\n",
    "t,p = compute_p_t(a,b)\n",
    "\n",
    "#validation\n",
    "\n",
    "val_result = scipy.stats.ttest_ind(a,b, equal_var=False)\n",
    "\n",
    "print(\"Correct t = \", val_result[0])\n",
    "print(\"Correct p = \", val_result[1])"
   ]
  },
  {
   "cell_type": "markdown",
   "id": "da322421",
   "metadata": {},
   "source": [
    "### Task 01.12\n",
    "\n",
    "Write python code to perform the following Welch tests (using your function):\n",
    "1. the pre-test scores in the control versus the intervention condition\n",
    "2. the post-test scores in the control versus the intervention condition\n",
    "3. the differences between post- and pre-test scores in the control versus the intervention condition\n",
    "\n",
    "For each of the tests, print the $t$ and $p$.\n",
    "\n",
    "Which of the test results are significant at a $0.01$-level?\n",
    "\n",
    "**Hint:** You can validate that your function returns the correct $t$ and $p$ values by comparing to the output of the function `scipy.stats.ttest_ind` with `equal_var = False`."
   ]
  },
  {
   "cell_type": "code",
   "execution_count": 52,
   "id": "0b752429",
   "metadata": {},
   "outputs": [
    {
     "name": "stdout",
     "output_type": "stream",
     "text": [
      "1. pre-test scores:\n",
      "t = -0.0738102614136434 \n",
      "p = 0.9414314685841807\n",
      "Validation: TtestResult(statistic=0.0738102614136434, pvalue=0.9414314685841807, df=54.527421797824225)\n",
      "\n",
      "2. post-test scores:\n",
      "t = -4.394148531508487 \n",
      "p = 5.145756436833774e-05\n",
      "Validation: TtestResult(statistic=4.394148531508488, pvalue=5.1457564368337666e-05, df=54.78187033204103)\n",
      "\n",
      "3. difference scores:\n",
      "t = -7.318306245054616 \n",
      "p = 1.1642080318417869e-09\n",
      "Validation: TtestResult(statistic=7.318306245054616, pvalue=1.1642080318417908e-09, df=54.741087555720334)\n"
     ]
    }
   ],
   "source": [
    "# pre-test scores\n",
    "pre_intervention_scores = new_X[new_X[:,1] == 1][:,2]\n",
    "pre_control_scores = new_X[new_X[:,1] == 0][:,2]\n",
    "\n",
    "pre_t, pre_p = compute_p_t(pre_intervention_scores, pre_control_scores)\n",
    "print(\"1. pre-test scores:\")\n",
    "print(\"t =\", pre_t, \"\\np =\", pre_p)\n",
    "print(\"Validation:\", scipy.stats.ttest_ind(pre_intervention_scores, pre_control_scores, equal_var=False))\n",
    "\n",
    "\n",
    "# post-test scores\n",
    "\n",
    "post_intervention_scores = new_X[new_X[:,1] == 1][:,3]\n",
    "post_control_scores = new_X[new_X[:,1] == 0][:,3]\n",
    "\n",
    "post_t, post_p = compute_p_t(post_intervention_scores, post_control_scores)\n",
    "print(\"\\n2. post-test scores:\")\n",
    "print(\"t =\", post_t, \"\\np =\", post_p)\n",
    "print(\"Validation:\", scipy.stats.ttest_ind(post_intervention_scores, post_control_scores, equal_var=False))\n",
    "\n",
    "\n",
    "# difference scores\n",
    "\n",
    "diff_intervention_scores = post_intervention_scores - pre_intervention_scores\n",
    "diff_control_scores = post_control_scores - pre_control_scores\n",
    "\n",
    "diff_t, diff_p = compute_p_t(diff_intervention_scores, diff_control_scores)\n",
    "print(\"\\n3. difference scores:\")\n",
    "print(\"t =\", diff_t, \"\\np =\", diff_p)\n",
    "print(\"Validation:\", scipy.stats.ttest_ind(diff_intervention_scores, diff_control_scores, equal_var=False))"
   ]
  },
  {
   "cell_type": "markdown",
   "id": "ffa95e29",
   "metadata": {},
   "source": [
    "The tests 2 and 3 are significant at a 0.01-level since $p < 0.01$."
   ]
  },
  {
   "cell_type": "markdown",
   "id": "90cfc77a",
   "metadata": {},
   "source": [
    "### Task 01.13\n",
    "\n",
    "Compute the effect sizes for the difference in post-test minus pre-test score between control and intervention condition using the formula\n",
    "\n",
    "\\begin{equation}\n",
    "d = \\frac{|\\mu_x - \\mu_y|}{\\sqrt{\\frac{1}{2}(\\sigma_x^2 + \\sigma_y^2)}}\n",
    "\\end{equation}\n",
    "\n",
    "where $\\mu_x$ and $\\mu_y$ are the mean score difference in intervention and control condition and $\\sigma_x$ and $\\sigma_y$ are the respective standard deviations.\n",
    "\n",
    "Print the effect size and interpret the size of the effect using the following rule of thumb (by [Sawilowsky (2009)](https://digitalcommons.wayne.edu/cgi/viewcontent.cgi?article=1536&context=jmasm))\n",
    "* An effect of size $0.01 < d \\leq 0.2$ is considered very small.\n",
    "* An effect of size $0.2 < d \\leq 0.5$ is considered small.\n",
    "* An effect of size $0.5 < d \\leq 0.8$ is considered moderate.\n",
    "* An effect of size $0.8 < d \\leq 1.2$ is considered large.\n",
    "* An effect of size $1.2 < d \\leq 2.0$ is considered very large.\n",
    "* An effect of size $d > 2.0$ is considered huge."
   ]
  },
  {
   "cell_type": "code",
   "execution_count": 19,
   "id": "132d8c01",
   "metadata": {},
   "outputs": [],
   "source": [
    "def compute_effect_size(x,y):\n",
    "    \n",
    "    mean_x = np.mean(x)\n",
    "    mean_y = np.mean(y)\n",
    "    \n",
    "    return np.abs(mean_x - mean_y) / np.sqrt((np.std(x)**2 + np.std(y)**2) / 2)"
   ]
  },
  {
   "cell_type": "code",
   "execution_count": 20,
   "id": "222eeab9",
   "metadata": {},
   "outputs": [
    {
     "ename": "NameError",
     "evalue": "name 'diff_control_scores' is not defined",
     "output_type": "error",
     "traceback": [
      "\u001b[1;31m---------------------------------------------------------------------------\u001b[0m",
      "\u001b[1;31mNameError\u001b[0m                                 Traceback (most recent call last)",
      "\u001b[1;32mc:\\Users\\chris\\Desktop\\Uni\\WS 23 7. Semester\\Data_Mining\\data-mining\\sheet01\\sheet01.ipynb Cell 44\u001b[0m line \u001b[0;36m1\n\u001b[1;32m----> <a href='vscode-notebook-cell:/c%3A/Users/chris/Desktop/Uni/WS%2023%207.%20Semester/Data_Mining/data-mining/sheet01/sheet01.ipynb#Y160sZmlsZQ%3D%3D?line=0'>1</a>\u001b[0m d \u001b[39m=\u001b[39m compute_effect_size(diff_control_scores, diff_intervention_scores)\n\u001b[0;32m      <a href='vscode-notebook-cell:/c%3A/Users/chris/Desktop/Uni/WS%2023%207.%20Semester/Data_Mining/data-mining/sheet01/sheet01.ipynb#Y160sZmlsZQ%3D%3D?line=1'>2</a>\u001b[0m \u001b[39mprint\u001b[39m(\u001b[39m\"\u001b[39m\u001b[39mEffect size:\u001b[39m\u001b[39m\"\u001b[39m, d)\n",
      "\u001b[1;31mNameError\u001b[0m: name 'diff_control_scores' is not defined"
     ]
    }
   ],
   "source": [
    "d = compute_effect_size(diff_control_scores, diff_intervention_scores)\n",
    "print(\"Effect size:\", d)"
   ]
  },
  {
   "cell_type": "markdown",
   "id": "9e975f7c",
   "metadata": {},
   "source": [
    "As the effect size $d$ is in the range of $1.2 < d \\leq 2.0$, it is considered very large."
   ]
  },
  {
   "cell_type": "markdown",
   "id": "0ee25242",
   "metadata": {},
   "source": [
    "### Task 01.14 (Bonus Task)\n",
    "\n",
    "Write python code that uses the wilcoxon sign rank test (via `scipy.stats.wilcoxon`) to check whether the post-test scores in the control condition are significantly different from the pre-test scores. Repeat the same analysis for the intervention condition."
   ]
  },
  {
   "cell_type": "code",
   "execution_count": null,
   "id": "8fa61be4",
   "metadata": {},
   "outputs": [],
   "source": []
  },
  {
   "cell_type": "markdown",
   "id": "86c1e04e",
   "metadata": {},
   "source": [
    "## Probabilistic Modeling\n",
    "\n",
    "Let's assume that a student does a test in which they can achieve a certain number of points in the real numbers. Further, assume that the number of points achieved is generated from a Gaussian distribution with standard deviation $\\sigma$. However, the mean of the distribution depends on whether the student has understood the topic or not."
   ]
  },
  {
   "cell_type": "markdown",
   "id": "9cfcecc0",
   "metadata": {},
   "source": [
    "### Task 01.15\n",
    "\n",
    "Formalize this scenario. In particular:\n",
    "1. Model a random variable $Z$ that indicates whether the student understood the topic or not. What is the domain? What is the probability mass function $p_Z$? What are the parameters of this function?\n",
    "2. Model a random variable $X$ for the number of points the student achieves on the test. What is the conditional probability density function $p_{X|Z}$? What are the parameters of this function?"
   ]
  },
  {
   "cell_type": "markdown",
   "id": "7757c619",
   "metadata": {},
   "source": [
    "**ANSWER**\n",
    "\n",
    "$Z$ is a random variable representing whether the student understood the topic or not. The domain is $\\{0, 1\\}$, where $0$ means that the student did not understand the topic and $1$ means that the student understood the topic.\n",
    "\n",
    "The probability mass function $p_Z$ is given by $p_Z(0) = \\theta$ and $p_Z(1) = 1-\\theta$. The parameter $\\theta$ is the probability that the student understood the topic.\n",
    "\n",
    "$X$ is a random variable representing the number of points the student achieves on the test. The conditional probability density function $p_{X|Z}$ is characterized as follows:\n",
    "\n",
    "* If $Z = 0$: $X$ follows a Gaussian distribution with mean $\\mu_0$ and standard deviation $\\sigma$.\n",
    "* If $Z = 1$: $X$ follows a Gaussian distribution with mean $\\mu_1$ and standard deviation $\\sigma$.\n",
    "\n",
    "So the number of points $X$ depends on the understanding of the topic $Z$. If the student understands ($Z=1$), they tend to perform better with a mean score of $\\mu_1$. If the student does not understand ($Z=0$), they typically achieve a lower score with a mean score of $\\mu_0$. The standard deviation $\\sigma$ remains the same in both cases."
   ]
  },
  {
   "cell_type": "markdown",
   "id": "0540b4aa",
   "metadata": {},
   "source": [
    "### Task 01.16\n",
    "\n",
    "Using Bayes' theorem and the law of total probability, compute the conditional probability mass $p_{Z|X}(1|x)$ for the student having understood the topic given their achieved number of points."
   ]
  },
  {
   "cell_type": "markdown",
   "id": "42722ba8",
   "metadata": {},
   "source": [
    "**ANSWER**"
   ]
  },
  {
   "cell_type": "markdown",
   "id": "6195d94c",
   "metadata": {},
   "source": [
    "### Task 01.17\n",
    "\n",
    "Assume that the numbers $x_1, \\ldots, x_m \\in \\mathbb{R}$ are generated (independently) from a Gaussian with mean $\\mu$ and standard deviation $\\sigma$.\n",
    "\n",
    "1. What is the negative log likelihood of the data under this assumption?\n",
    "2. Prove that $\\mu$ and $\\sigma^2$ which minimize the negative log likelihood are exactly $\\mu = \\frac{1}{m} \\sum_{i=1}^m x_i$ and $\\sigma^2 = \\frac{1}{m} \\sum_{i=1}^m (x_i - \\mu)^2$. You may assume that the negative log likelihood is convex, in this case."
   ]
  },
  {
   "cell_type": "markdown",
   "id": "16e25d24",
   "metadata": {},
   "source": [
    "**ANSWER**"
   ]
  }
 ],
 "metadata": {
  "kernelspec": {
   "display_name": "Python 3 (ipykernel)",
   "language": "python",
   "name": "python3"
  },
  "language_info": {
   "codemirror_mode": {
    "name": "ipython",
    "version": 3
   },
   "file_extension": ".py",
   "mimetype": "text/x-python",
   "name": "python",
   "nbconvert_exporter": "python",
   "pygments_lexer": "ipython3",
   "version": "3.11.6"
  }
 },
 "nbformat": 4,
 "nbformat_minor": 5
}
