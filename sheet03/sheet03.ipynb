{
 "cells": [
  {
   "cell_type": "markdown",
   "id": "c2e647a4",
   "metadata": {},
   "source": [
    "# Exercise Sheet 03: Item response theory and variational autoencoders\n",
    "\n",
    "**Introduction to Data Mining WS23/24**  \n",
    "**Bielefeld University**  \n",
    "**Alina Deriyeva, Benjamin Paaßen**  \n",
    "**Exercise Sheet Publication Date: 2023-11-20**  \n",
    "**Exercise Sheet Submission Deadline: 2023-12-01, noon (i.e. 12:00), via **moodle** (please do not use e-mail submissions anymore).\n",
    "\n",
    "**NOTE** The use of language models/AI tools is permitted IF you notify us of the use (just indicate it in the respective task) and are still able to understand and present your results. We also appreciate it if you link to a chatlog of the interaction with the language model/AI tool so that we can understand better how students tend to use these tools."
   ]
  },
  {
   "cell_type": "markdown",
   "id": "9f8967b8",
   "metadata": {},
   "source": [
    "**AUTHORS**\n",
    "\n",
    "Florian Wicher, Christopher Gerz, Torben Lambrecht, Bastian Hunecke"
   ]
  },
  {
   "cell_type": "markdown",
   "id": "2591c02c",
   "metadata": {},
   "source": [
    "## Preamble: Data set\n",
    "\n",
    "The file `sheet03_data.csv` contains fictional data of a class of students completing a set of tasks. Each row indicates a student, each column indicates a task. Each task is only graded as 'passed' (1) or 'failed' (0).\n",
    "\n",
    "The following code loads this raw data and prints it."
   ]
  },
  {
   "cell_type": "code",
   "execution_count": 1,
   "id": "d0d93f7c",
   "metadata": {},
   "outputs": [
    {
     "name": "stdout",
     "output_type": "stream",
     "text": [
      "[[1 1 0 ... 0 1 0]\n",
      " [1 1 0 ... 0 0 0]\n",
      " [1 1 0 ... 0 0 0]\n",
      " ...\n",
      " [0 0 0 ... 0 0 0]\n",
      " [1 0 1 ... 1 1 1]\n",
      " [1 0 0 ... 0 0 0]]\n"
     ]
    }
   ],
   "source": [
    "import numpy as np\n",
    "import matplotlib.pyplot as plt\n",
    "\n",
    "X = np.loadtxt('sheet03_data.csv', skiprows = 1, delimiter = '\\t', dtype=int)\n",
    "N, m = X.shape\n",
    "print(X)"
   ]
  },
  {
   "cell_type": "markdown",
   "id": "4e93d467",
   "metadata": {},
   "source": [
    "### Task 03.01\n",
    "\n",
    "Before we apply any advanced data mining, let us compute some basic statistics to get a sense of the data.\n",
    "\n",
    "Provide a bar plot with the task index on the x axis and the pass rate on the y axis. Don't forget to label your axes.\n",
    "\n",
    "Provide a second bar plot with the student index on the x axis and the pass rate on the y axis. Don't forget to label your axes."
   ]
  },
  {
   "cell_type": "code",
   "execution_count": 2,
   "id": "04b3b0e2",
   "metadata": {},
   "outputs": [
    {
     "data": {
      "image/png": "[encoded data removed]",
      "text/plain": [
       "<Figure size 432x288 with 1 Axes>"
      ]
     },
     "metadata": {
      "needs_background": "light"
     },
     "output_type": "display_data"
    },
    {
     "data": {
      "image/png": "[encoded data removed]",
      "text/plain": [
       "<Figure size 720x216 with 1 Axes>"
      ]
     },
     "metadata": {
      "needs_background": "light"
     },
     "output_type": "display_data"
    }
   ],
   "source": [
    "pass_rate_tasks = np.sum(X, axis=0) / N\n",
    "pass_rate_students = np.sum(X, axis=1) / m\n",
    "\n",
    "plt.bar(np.arange(m), pass_rate_tasks)\n",
    "plt.title('Pass rate per task')\n",
    "plt.xlabel('Task index')\n",
    "plt.ylabel('Pass rate')\n",
    "plt.show()\n",
    "\n",
    "plt.figure(figsize=(10, 3))\n",
    "plt.bar(np.arange(N), pass_rate_students)\n",
    "plt.title('Pass rate per student')\n",
    "plt.xlabel('Student index')\n",
    "plt.ylabel('Pass rate')\n",
    "plt.show()"
   ]
  },
  {
   "cell_type": "markdown",
   "id": "27c9001c",
   "metadata": {},
   "source": [
    "## Item Response Theory\n",
    "\n",
    "Now, we want to fit item response theory models to our data. We will start with a 1-parameter model and then continue with a 2-parameter model.\n",
    "\n",
    "For the former, we will use the [LogisticRegression](https://scikit-learn.org/stable/modules/generated/sklearn.linear_model.LogisticRegression.html) interface from scikit-learn. For the latter, we will use the [girth](https://github.com/eribean/girth) software package."
   ]
  },
  {
   "cell_type": "markdown",
   "id": "9b0a0508",
   "metadata": {},
   "source": [
    "### Task 03.02\n",
    "\n",
    "Right now, our data is in the form of an $N \\times m$ matrix, where $N$ is the number of students and $m$ is the number of tasks. To plug this data into logistic regression, we need to convert it to a different format.\n",
    "\n",
    "1. Prepare a $(N \\cdot m) \\times (N + m)$ matrix `Xlogreg` where each row represents a student-task combination. All entries are zero except for the entries `Xlogreg[i*m+j, i] = 1`, `Xlogreg[i*m+j, N+j] = 1` for all $i \\in \\{0, \\ldots, N-1\\}$ and all $j \\in \\{0, \\ldots, m\\}$. This is the feature matrix for our logistic regression.\n",
    "2. Prepare a vector `ylogreg` with $N \\cdot m$ entries where each entry represents a student-task combination and `ylogreg[i*m+j] = X[i, j]` for all $i \\in \\{0, \\ldots, N-1\\}$ and all $j \\in \\{0, \\ldots, m\\}$."
   ]
  },
  {
   "cell_type": "code",
   "execution_count": 3,
   "id": "cbb6eba1",
   "metadata": {},
   "outputs": [],
   "source": [
    "Xlogreg = np.zeros((N*m, N+m))\n",
    "for i in range(N-1):\n",
    "    for j in range(m):\n",
    "        Xlogreg[i*m+j, i] = 1\n",
    "        Xlogreg[i*m+j, N+j] = 1\n",
    "\n",
    "ylogreg = np.zeros(N*m)\n",
    "for i in range(N-1):\n",
    "    for j in range(m):\n",
    "        ylogreg[i*m+j] = X[i,j]"
   ]
  },
  {
   "cell_type": "markdown",
   "id": "14bd54b1",
   "metadata": {},
   "source": [
    "### Task 03.03\n",
    "\n",
    "Use the new format of the data to train an [sklearn.linear_model.LogisticRegression](https://scikit-learn.org/stable/modules/generated/sklearn.linear_model.LogisticRegression.html) model with `penalty = 'l2'`, `C = 1.0`, and `fit_intercept = False`.\n",
    "\n",
    "Report the accuracy of the model by printing the output of the `score` function of the model."
   ]
  },
  {
   "cell_type": "code",
   "execution_count": 4,
   "id": "3801de1b",
   "metadata": {},
   "outputs": [
    {
     "name": "stdout",
     "output_type": "stream",
     "text": [
      "Score: 0.796969696969697\n"
     ]
    }
   ],
   "source": [
    "from sklearn.linear_model import LogisticRegression\n",
    "\n",
    "logreg = LogisticRegression(penalty='l2', C=1.0, fit_intercept=False)\n",
    "logreg.fit(Xlogreg, ylogreg)\n",
    "\n",
    "print(\"Score:\", logreg.score(Xlogreg, ylogreg))"
   ]
  },
  {
   "cell_type": "markdown",
   "id": "eba1b3da",
   "metadata": {},
   "source": [
    "### Task 03.04\n",
    "\n",
    "The learned parameters of the model are stored in the `coef_` attribute. The first $N$ parameters represent the estimated student abilities, the last $m$ parameters represent the negative (!) estimated task difficulties.\n",
    "\n",
    "Extract abilities and task difficulties.\n",
    "\n",
    "Provide a scatter plot with estimated task difficulties on the x axis and pass rates on the y axis. Don't forget to label your axes.\n",
    "\n",
    "Provide a scatter plot with estimated student abilities on the x axis and pass rates on the y axis. Don't forget to label your axes."
   ]
  },
  {
   "cell_type": "code",
   "execution_count": 5,
   "id": "b9b0baf9",
   "metadata": {},
   "outputs": [
    {
     "data": {
      "image/png": "[encoded data removed]",
      "text/plain": [
       "<Figure size 432x288 with 1 Axes>"
      ]
     },
     "metadata": {
      "needs_background": "light"
     },
     "output_type": "display_data"
    },
    {
     "data": {
      "image/png": "[encoded data removed]",
      "text/plain": [
       "<Figure size 432x288 with 1 Axes>"
      ]
     },
     "metadata": {
      "needs_background": "light"
     },
     "output_type": "display_data"
    }
   ],
   "source": [
    "coefficients = np.transpose(logreg.coef_)\n",
    "abilities = coefficients[:N]\n",
    "difficulties = -coefficients[N:]\n",
    "\n",
    "plt.scatter(difficulties, pass_rate_tasks)\n",
    "plt.title('Pass rate vs. difficulty')\n",
    "plt.xlabel('Difficulty')\n",
    "plt.ylabel('Pass rate')\n",
    "plt.show()\n",
    "\n",
    "plt.scatter(abilities, pass_rate_students)\n",
    "plt.title('Pass rate vs. ability')\n",
    "plt.xlabel('Ability')\n",
    "plt.ylabel('Pass rate')\n",
    "plt.show()"
   ]
  },
  {
   "cell_type": "markdown",
   "id": "db026a96",
   "metadata": {},
   "source": [
    "### Task 03.05\n",
    "\n",
    "Plot the item characteristic curve for the second task (item index 1) according to your IRT model. To do so, sample 61 abilities via the `np.linspace` function in the range $[-3, +3]$ and plot the value of the function\n",
    "\n",
    "\\begin{equation*}\n",
    "p(x = 1|\\theta, b_2) = \\frac{1}{1 + \\exp(-(\\theta - b_2))}\n",
    "\\end{equation*}\n",
    "\n",
    "where $b_2$ is the difficulty of the second task and $\\theta$ is the ability."
   ]
  },
  {
   "cell_type": "code",
   "execution_count": 6,
   "id": "f28bf57f",
   "metadata": {},
   "outputs": [
    {
     "data": {
      "image/png": "[encoded data removed]",
      "text/plain": [
       "<Figure size 432x288 with 1 Axes>"
      ]
     },
     "metadata": {
      "needs_background": "light"
     },
     "output_type": "display_data"
    }
   ],
   "source": [
    "abilities = np.linspace(-3,3, num=61)\n",
    "\n",
    "def func(difficulty, ability):\n",
    "    return 1 / (1 + np.e**(-(ability - difficulty)))\n",
    "\n",
    "icc = []\n",
    "for i in abilities:\n",
    "    icc.append(func(difficulties[1], i))\n",
    "\n",
    "plt.plot(abilities, icc)\n",
    "plt.xlabel(\"ability\")\n",
    "plt.ylabel(\"probability\")\n",
    "plt.title(\"item characteristic curve for second task\")\n",
    "plt.show()\n"
   ]
  },
  {
   "cell_type": "markdown",
   "id": "f955e917",
   "metadata": {},
   "source": [
    "### Task 03.06\n",
    "\n",
    "To validate the item characteristic curve, provide a plot of the pass rate of students within a certain range of abilities. In particular, compute the pass rates for students with an ability between -2.5 and -1.5, between -1.5 and -0.5, between -0.5 and +0.5, beween +0.5 and +1.5, and between +1.5 and +2.5. Then, plot these values on the y axis versus x values -2, -1, 0, +1, +2.\n",
    "\n",
    "Plot the item characteristic curve as well.\n",
    "\n",
    "Compare the pass rate curve to the item characteristic curve. Are they similar? What is different?"
   ]
  },
  {
   "cell_type": "code",
   "execution_count": 7,
   "id": "ce67acc4",
   "metadata": {},
   "outputs": [
    {
     "data": {
      "image/png": "[encoded data removed]",
      "text/plain": [
       "<Figure size 432x288 with 1 Axes>"
      ]
     },
     "metadata": {
      "needs_background": "light"
     },
     "output_type": "display_data"
    }
   ],
   "source": [
    "x_values = [-2,-1,0,1,2]\n",
    "\n",
    "prs = []\n",
    "for i in x_values:\n",
    "    prs.append(func(difficulties[1], i))\n",
    "\n",
    "plt.plot(x_values, prs)\n",
    "plt.plot(abilities, icc)\n",
    "plt.xlabel(\"ability\")\n",
    "plt.ylabel(\"probability\")\n",
    "plt.title(\"item characteristic curve and pass rate of students for second task\")\n",
    "plt.show()"
   ]
  },
  {
   "cell_type": "markdown",
   "id": "49e34c09",
   "metadata": {},
   "source": [
    "The curves are very similar as they lay almost on top of each other. The pass rate of students plot is less smooth and has a few more edges."
   ]
  },
  {
   "cell_type": "markdown",
   "id": "370bebc7",
   "metadata": {},
   "source": [
    "### Task 03.07\n",
    "\n",
    "Now, use the `twopl_mml` function from the [girth](https://github.com/eribean/girth) software package to fit a 2-parameter IRT model to the data. The output of the function is a two parameter IRT model given in form of a python dictionary. You can extract the estimated difficulties via `model['Difficulty']`, the abilities via `model['Ability']`, and the discriminations via `model['Discrimination']`.\n",
    "\n",
    "**NOTE:** girth assumes that each row represents a task and each column a student. In our data format, this is flipped. So you need to transpose the data before feeding it into the `twopl_mml` function."
   ]
  },
  {
   "cell_type": "code",
   "execution_count": 8,
   "id": "348b113e",
   "metadata": {},
   "outputs": [
    {
     "name": "stdout",
     "output_type": "stream",
     "text": [
      "Requirement already satisfied: girth in /Users/florianwicher/miniforge3/envs/tf_test/lib/python3.10/site-packages (0.8.0)\n",
      "Requirement already satisfied: scipy in /Users/florianwicher/miniforge3/envs/tf_test/lib/python3.10/site-packages (from girth) (1.7.3)\n",
      "Requirement already satisfied: numpy in /Users/florianwicher/miniforge3/envs/tf_test/lib/python3.10/site-packages (from girth) (1.22.3)\n",
      "Note: you may need to restart the kernel to use updated packages.\n"
     ]
    }
   ],
   "source": [
    "# this command installs the girth software package\n",
    "%pip install girth"
   ]
  },
  {
   "cell_type": "code",
   "execution_count": 9,
   "id": "4c9c3a3f",
   "metadata": {},
   "outputs": [
    {
     "name": "stdout",
     "output_type": "stream",
     "text": [
      "{'Discrimination': array([1.06746278, 0.68452406, 0.24366756, 1.83857635, 1.16046988,\n",
      "       1.22484644, 1.35939748, 1.68537067, 3.48857314, 1.95760973,\n",
      "       1.20629601]), 'Difficulty': array([-1.53051913,  0.17255112,  4.49721625, -1.3683731 ,  0.08765506,\n",
      "        0.82512197,  0.89853117,  0.85875403,  0.6534687 ,  1.15670472,\n",
      "        2.05246233]), 'Ability': array([ 0.50007501, -1.04771076, -0.11445915, -0.46686076, -1.61998098,\n",
      "        0.04147967, -1.61998098,  0.97640516, -1.04771076,  0.61656505,\n",
      "       -0.32400492, -1.72254869,  0.13918375,  0.09826218,  0.91917621,\n",
      "       -0.28280412,  1.0560754 , -0.10392244, -0.27235237,  1.04815918,\n",
      "       -0.66903629,  1.73250455, -0.28391369, -1.04771076,  0.33928031,\n",
      "        0.3843632 ,  0.0651618 , -0.78943116,  1.05785231,  0.13963883,\n",
      "        0.41146379,  0.95713928,  0.64128152,  0.67827514, -0.29471144,\n",
      "        0.56992451, -0.88578469, -0.66903629,  0.20461048, -1.04771076,\n",
      "        1.26432865,  0.89346965, -0.66903629, -1.72254869,  1.38710295,\n",
      "       -0.66903629, -1.72254869, -0.33616481, -0.66903629, -0.39894145,\n",
      "        0.0045655 ,  0.69476852,  1.38710295, -0.33616481, -0.33616481,\n",
      "        0.25286927,  0.11207738, -0.28391369, -1.29541042,  0.0086467 ,\n",
      "       -0.16209145,  0.49521448,  1.31905475,  0.28913731, -0.66903629,\n",
      "        0.04758621,  0.37247775,  0.8040126 , -0.37357523, -0.19966405,\n",
      "       -0.15100415, -0.66903629, -0.46686076, -0.66903629, -0.05783715,\n",
      "       -0.66706306,  0.79342898, -1.72254869,  1.53817935,  0.55502149,\n",
      "       -0.5951466 , -0.03564463, -0.62106883, -0.35994642,  1.17207685,\n",
      "        0.19641697,  0.61656505,  0.28671485,  1.1506369 ,  0.65616838,\n",
      "        1.27474747, -0.33616481,  0.97640516,  1.77401709,  0.75346489,\n",
      "       -0.29471144, -0.93448558, -0.28793988,  0.47711478, -0.66903629,\n",
      "       -0.5951466 , -0.33616481,  0.0651618 ,  1.78666455, -1.72254869,\n",
      "       -0.33616481, -1.72254869, -0.39894145,  1.41606673, -0.10392244,\n",
      "        0.84718312, -0.5951466 , -0.44068579, -0.11445915, -0.02533754,\n",
      "        1.24838505, -0.96379065, -1.01764165, -1.20514477, -0.5951466 ,\n",
      "       -0.64058272, -0.05783715,  0.44962807, -0.35619739, -0.16209145,\n",
      "        1.38710295,  0.15662852,  0.0651618 ,  1.58037818,  1.70359306,\n",
      "        1.13390339,  1.09677458, -0.66706306, -1.44233297, -0.5951466 ,\n",
      "       -0.62106883,  0.47711478, -0.46686076, -1.04771076,  0.92591635,\n",
      "        1.70846956, -1.01764165, -0.66903629,  0.15266792, -0.62106883,\n",
      "       -0.29471144,  0.20461048, -1.01764165,  1.92449904, -0.20125505]), 'LatentPDF': <girth.utilities.latent_ability_distribution.LatentPDF object at 0x11bf2e290>, 'AIC': {'final': 1667.2806410057296, 'null': 1667.2806410057296, 'delta': 0.0}, 'BIC': {'final': 1667.2806410057296, 'null': 1667.2806410057296, 'delta': 0.0}}\n"
     ]
    }
   ],
   "source": [
    "from girth import twopl_mml\n",
    "\n",
    "X_transposed = np.transpose(X)\n",
    "model = twopl_mml(X_transposed)\n",
    "print(model)"
   ]
  },
  {
   "cell_type": "markdown",
   "id": "3c9d007e",
   "metadata": {},
   "source": [
    "### Task 03.08\n",
    "\n",
    "Let's try to compute the accuracy of the model. To do so, we need to get the predictions of the 2-parameter model and compare them to the actual passes/fails of the students.\n",
    "\n",
    "The prediction of the model is given as\n",
    "\n",
    "\\begin{equation*}\n",
    "\\hat x_{i, j} =\n",
    "\\begin{cases}\n",
    "1 & \\text{if } b_j < \\theta_i \\\\\n",
    "0 & \\text{otherwise}\n",
    "\\end{cases}\n",
    "\\end{equation*}\n",
    "\n",
    "where $b_j$ is the estimated difficulty for task $j$ and $\\theta_i$ is the estimated ability for student $i$.\n",
    "\n",
    "Compute the matrix `Xhat` of predicted pass/fails and then compute the accuracy as `np.mean(Xhat == X)`. Print the accuracy."
   ]
  },
  {
   "cell_type": "code",
   "execution_count": 10,
   "id": "212b04c8",
   "metadata": {},
   "outputs": [
    {
     "name": "stdout",
     "output_type": "stream",
     "text": [
      "0.8151515151515152\n"
     ]
    }
   ],
   "source": [
    "Xhat = np.zeros((N, m))\n",
    "\n",
    "for i in range(N):\n",
    "    for j in range(m):\n",
    "        if model['Difficulty'][j] < model['Ability'][i]:\n",
    "            Xhat[i,j] = 1\n",
    "\n",
    "accuracy = np.mean(Xhat == X)\n",
    "print(accuracy)"
   ]
  },
  {
   "cell_type": "markdown",
   "id": "11b330ad",
   "metadata": {},
   "source": [
    "### Task 03.09\n",
    "\n",
    "Provide a scatter plot with the estimated difficulties of the logistic regression model on the x axis and the difficulties of the 2-parameter model on the y axis. Which differences do you notice?\n",
    "\n",
    "Provide a scatter plot with the estimated abilities of the logistic regression model on the x axis and the abilities of the 2-parameter model on the y axis. Which differences do you notice?"
   ]
  },
  {
   "cell_type": "code",
   "execution_count": 11,
   "id": "bc943e42",
   "metadata": {},
   "outputs": [
    {
     "data": {
      "image/png": "[encoded data removed]",
      "text/plain": [
       "<Figure size 1080x504 with 2 Axes>"
      ]
     },
     "metadata": {
      "needs_background": "light"
     },
     "output_type": "display_data"
    }
   ],
   "source": [
    "fig, axes = plt.subplots(1, 2, figsize=(15, 7))\n",
    "\n",
    "axes[0].scatter(difficulties, model['Difficulty'])\n",
    "axes[0].set_xlabel(\"Logistic Regression Difficulty\")\n",
    "axes[0].set_ylabel(\"IRT Difficulty\")\n",
    "axes[0].set_title(\"Difficulties\")\n",
    "\n",
    "axes[1].scatter(coefficients[:N], model['Ability'])\n",
    "axes[1].set_xlabel(\"Logistic Regression Ability\")\n",
    "axes[1].set_ylabel(\"IRT Ability\")\n",
    "axes[1].set_title(\"Abilities\")\n",
    "\n",
    "\n",
    "plt.show();\n",
    "\n",
    "\n"
   ]
  },
  {
   "cell_type": "markdown",
   "id": "85c65e17",
   "metadata": {},
   "source": [
    "**ANSWER:** \n",
    "\n",
    "left: the difficulties for the logistic regression and the IRT model are very similar except for the value around x=1.25 where the IRT assigns a much higher difficulty of more than 4.\n",
    "\n",
    "right: "
   ]
  },
  {
   "cell_type": "markdown",
   "id": "b073cc15",
   "metadata": {},
   "source": [
    "### Task 03.10\n",
    "\n",
    "Plot the item characteristic curve of the 2-parameter model for the second task and compare it to the item characteristic curve for the logistic regression model of the second task. What differences do you notice?\n",
    "\n",
    "Recall: For a 2-parameter model, the item characteristic curve is given as\n",
    "\\begin{equation*}\n",
    "p(x = 1|\\theta, b_2, a_2) = \\frac{1}{1 + \\exp\\Big(-a_2 \\cdot (\\theta-b_2)\\Big)}\n",
    "\\end{equation*}\n",
    "where $a_2$ is the discrimination parameter for the second task."
   ]
  },
  {
   "cell_type": "code",
   "execution_count": 17,
   "id": "d40aa419",
   "metadata": {},
   "outputs": [
    {
     "data": {
      "image/png": "[encoded data removed]",
      "text/plain": [
       "<Figure size 432x288 with 1 Axes>"
      ]
     },
     "metadata": {
      "needs_background": "light"
     },
     "output_type": "display_data"
    }
   ],
   "source": [
    "#a_2 = disrimmination param of the second task\n",
    "#b_2 = the difficulty of the second task\n",
    "#theta = the ability of the second task\n",
    "\n",
    "abilities = np.linspace(-3,3, num=61)\n",
    "\n",
    "def item_characteristic_curve(a_2, b_2, theta):\n",
    "    return 1 / (1 + np.e**((-a_2) * (theta - b_2)))\n",
    "\n",
    "a_2 = model['Discrimination'][1]\n",
    "b_2 = model['Difficulty'][1]\n",
    "\n",
    "\n",
    "\n",
    "res = []\n",
    "for i in abilities:\n",
    "    res.append(item_characteristic_curve(a_2, b_2, i))\n",
    "    \n",
    "\n",
    "plt.plot(abilities, res, label=\"2P Model\")\n",
    "plt.plot(abilities, icc, label=\"Logistic Regression\")\n",
    "plt.xlabel(\"ability\")\n",
    "plt.ylabel(\"probability\")\n",
    "plt.legend(loc=\"upper left\")\n",
    "plt.title(\"ICC 2-Param Model for second task\")\n",
    "plt.show()\n"
   ]
  },
  {
   "cell_type": "markdown",
   "id": "24218296",
   "metadata": {},
   "source": [
    "**ANSWER:** \n",
    "\n",
    "the curves intersect at around x=0. The slope of the logistic regression curve is steeper before and after this point"
   ]
  },
  {
   "cell_type": "markdown",
   "id": "3e8f79e9",
   "metadata": {},
   "source": [
    "### Task 03.11\n",
    "\n",
    "To validate the item characteristic curve, provide a plot of the pass rate of students within a certain range of abilities. In particular, compute the pass rates for students with an ability between -2.5 and -1.5, between -1.5 and -0.5, between -0.5 and +0.5, beween +0.5 and +1.5, and between +1.5 and +2.5. Then, plot these values on the y axis versus x values -2, -1, 0, +1, +2.\n",
    "\n",
    "Plot the item characteristic curve as well.\n",
    "\n",
    "Compare the pass rate curve to the item characteristic curve. Are they similar? What is different?"
   ]
  },
  {
   "cell_type": "code",
   "execution_count": 15,
   "id": "d8e82c67",
   "metadata": {},
   "outputs": [
    {
     "data": {
      "image/png": "[encoded data removed]",
      "text/plain": [
       "<Figure size 432x288 with 1 Axes>"
      ]
     },
     "metadata": {
      "needs_background": "light"
     },
     "output_type": "display_data"
    }
   ],
   "source": [
    "x_values = [-2,-1,0,1,2]\n",
    "\n",
    "prs = []\n",
    "for i in x_values:\n",
    "    prs.append(item_characteristic_curve(a_2,b_2, i))\n",
    "\n",
    "plt.plot(x_values, prs)\n",
    "plt.plot(abilities, res, label=\"2P Model\")\n",
    "plt.xlabel(\"ability\")\n",
    "plt.ylabel(\"probability\")\n",
    "plt.title(\"item characteristic curve and pass rate of students for second task\")\n",
    "plt.show()"
   ]
  },
  {
   "cell_type": "markdown",
   "id": "7d4b07e5",
   "metadata": {},
   "source": [
    "**ANSWER:** \n",
    "\n",
    "the curves are almost identical. There is no huge difference between them."
   ]
  },
  {
   "cell_type": "markdown",
   "id": "632ea976",
   "metadata": {},
   "source": [
    "## Variational Autoencoder\n",
    "\n",
    "Next, we will try to fit a variational autoencoder to the data. For that purpose, we will use the [pytorch](https://pytorch.org/) software package. The following line installs pytorch."
   ]
  },
  {
   "cell_type": "code",
   "execution_count": null,
   "id": "e6313992",
   "metadata": {},
   "outputs": [],
   "source": [
    "%pip install torch"
   ]
  },
  {
   "cell_type": "markdown",
   "id": "be2793e8",
   "metadata": {},
   "source": [
    "Pytorch takes care of adjusting the parameters of your model. However, you still need to specify the architecture as well as the loss function you want to optimize. The following cell provides a template for a proper pytorch model setup. In particular, this class implements a one-parameter IRT model."
   ]
  },
  {
   "cell_type": "code",
   "execution_count": null,
   "id": "282621df",
   "metadata": {},
   "outputs": [],
   "source": [
    "import torch\n",
    "\n",
    "class IRTModel(torch.nn.Module):\n",
    "    \"\"\"The initialization method of a pytorch module. Here, we should set all hyperparameters\n",
    "    of the model, such as the regularization strength.\n",
    "\n",
    "    Parameters\n",
    "    ----------\n",
    "    C: float (default = 1000)\n",
    "        The inverse of the L2 regularization strength.\n",
    "    num_epochs: int (default = 1000)\n",
    "        How many times we iterate over the data set during training.\n",
    "    learning_rate: float (default = 1E-2)\n",
    "        The learning rate of our optimizer during training.\n",
    "    \"\"\"\n",
    "    def __init__(self, C = 1000, num_epochs = 1000, learning_rate = 1E-2):\n",
    "        # We call the torch.nn.Module constructor\n",
    "        super(IRTModel, self).__init__()\n",
    "        # Then, we store all hyperparameters as attributes of the model\n",
    "        self.C_ = C\n",
    "        self.num_epochs_ = num_epochs\n",
    "        self.learning_rate_ = learning_rate\n",
    "\n",
    "    \"\"\"Predicts responses based on the learned parameters.\n",
    "    \n",
    "    Parameters\n",
    "    ----------\n",
    "    X: np.ndarray\n",
    "        A matrix where each row represents a student and each column represents a task.\n",
    "        The entry X[i, j] is expected to be 0 if student i failed task j and to be 1\n",
    "        if student i passed task j.\n",
    "\n",
    "    Returns\n",
    "    -------\n",
    "    Z: torch.tensor\n",
    "        A matrix where each row represents a student and each column represents a task.\n",
    "        The entry Z[i, j] represents the logit probability of student i passing task j.\n",
    "    \n",
    "    \"\"\"\n",
    "    def predict_logits(self, X = None):\n",
    "        # the logits correspond to the difference of abilities and difficulties.\n",
    "        # The 'unsqueeze' method transforms the abilities vector from an N-entry\n",
    "        # vector to an (N, 1)-matrix and the difficulties vector from an m-entry\n",
    "        # vector to an (1, m)-matrix, such that the difference - thanks to the\n",
    "        # magic of broadcasting - yields a (N, m) matrix.\n",
    "        Z = self.abilities_.unsqueeze(1) - self.difficulties_.unsqueeze(0)\n",
    "        return Z\n",
    "\n",
    "    \"\"\"Predicts responses based on the learned parameters.\n",
    "    \n",
    "    Parameters\n",
    "    ----------\n",
    "    X: np.ndarray\n",
    "        A matrix where each row represents a student and each column represents a task.\n",
    "        The entry X[i, j] is expected to be 0 if student i failed task j and to be 1\n",
    "        if student i passed task j.\n",
    "\n",
    "    Returns\n",
    "    -------\n",
    "    Xhat: np.ndarray\n",
    "        A matrix where each row represents a student and each column represents a task.\n",
    "        The entry Xhat[i, j] is 1 if the model predicts student i to pass task j and 0\n",
    "        otherwise.\n",
    "    \n",
    "    \"\"\"\n",
    "    def predict(self, X = None):\n",
    "        Z = self.predict_logits()\n",
    "        Xhat = torch.zeros_like(Z)\n",
    "        Xhat[Z > 0.] = 1.\n",
    "        return Xhat.detach().numpy()\n",
    "\n",
    "    \"\"\"Fits this model to the given data matrix.\n",
    "\n",
    "    Parameters\n",
    "    ----------\n",
    "    X: np.ndarray\n",
    "        A matrix where each row represents a student and each column represents a task.\n",
    "        The entry X[i, j] is expected to be 0 if student i failed task j and to be 1\n",
    "        if student i passed task j.\n",
    "\n",
    "    \"\"\"\n",
    "    def fit(self, X):\n",
    "        # convert the input matrix to a pytorch tensor\n",
    "        X = torch.tensor(X, dtype=torch.float)\n",
    "        # initialize our model parameters based on passing rates, meaning:\n",
    "        # students have higher initial ability if they get more tasks right and\n",
    "        # items have higher initial difficulty if less students get them right.\n",
    "        self.abilities_    = torch.nn.Parameter(torch.mean(X, 1).detach() - 0.5)\n",
    "        self.difficulties_ = torch.nn.Parameter(0.5 - torch.mean(X, 0).detach())\n",
    "        # initialize optimizer with the right learning rate and regularization strength\n",
    "        optimizer = torch.optim.Adam(self.parameters(), lr=self.learning_rate_, weight_decay=1./self.C_)\n",
    "        # start training\n",
    "        for epoch in range(self.num_epochs_):\n",
    "            # re-set the current gradient to zero\n",
    "            optimizer.zero_grad()\n",
    "            # predict the logit passing probabilities for each student-item combination\n",
    "            # with the current model\n",
    "            Z = self.predict_logits()\n",
    "            # compute the loss between predicted and desired answers using the crossentropy loss\n",
    "            loss = torch.nn.functional.binary_cross_entropy_with_logits(Z, X)\n",
    "            # report the loss every 100 steps\n",
    "            if (epoch+1) % 100 == 0:\n",
    "                print('epoch %d: loss %g' % (epoch+1, loss.item()))\n",
    "            # compute the gradient\n",
    "            loss.backward()\n",
    "            # apply the optimizer\n",
    "            optimizer.step()\n",
    "        \n",
    "        return self"
   ]
  },
  {
   "cell_type": "markdown",
   "id": "d911f626",
   "metadata": {},
   "source": [
    "And the following cell trains this model for our data."
   ]
  },
  {
   "cell_type": "code",
   "execution_count": null,
   "id": "a00f7df4",
   "metadata": {},
   "outputs": [],
   "source": [
    "model_pytorch = IRTModel()\n",
    "model_pytorch.fit(X)\n",
    "\n",
    "plt.plot(abilities, model_pytorch.abilities_.detach().numpy(), 'o')\n",
    "plt.xlabel('logreg IRT ability')\n",
    "plt.ylabel('pytorch IRT ability')\n",
    "plt.show()\n",
    "\n",
    "plt.plot(difficulties, model_pytorch.difficulties_.detach().numpy(), 'o')\n",
    "plt.xlabel('logreg IRT difficulty')\n",
    "plt.ylabel('pytorch IRT difficulty')\n",
    "plt.show()"
   ]
  },
  {
   "cell_type": "markdown",
   "id": "0cda919e",
   "metadata": {},
   "source": [
    "### Task 03.12\n",
    "\n",
    "Starting from the template given above, set up a `torch.nn.Module` class representing a (variational) autoencoder for our data. The encoder should translate the vector of pass/fail information for one student to a two-dimensional ability vector for this student. The decoder should translate the two-dimensional abilities back to logit-probabilities of passing each task. The loss function should be the crossentropy (just as in the IRT model above) plus a loss term for the variational autoencoder.\n",
    "\n",
    "How you structure your architecture in detail is up to you. It is recommended to not go too wild, though, in order to keep training times manageable."
   ]
  },
  {
   "cell_type": "code",
   "execution_count": null,
   "id": "f75defe9",
   "metadata": {},
   "outputs": [],
   "source": [
    "import torch\n",
    "\n",
    "class VAE_IRT_Model(torch.nn.Module):\n",
    "    def __init__(self):\n",
    "        # We call the torch.nn.Module constructor\n",
    "        super(VAE_IRT_Model, self).__init__()"
   ]
  },
  {
   "cell_type": "markdown",
   "id": "de73dcd1",
   "metadata": {},
   "source": [
    "### Task 03.13\n",
    "\n",
    "Fit your model to the data matrix `X`. After fitting the model, compute the accuracy of the model and print it."
   ]
  },
  {
   "cell_type": "code",
   "execution_count": null,
   "id": "ffefe9a9",
   "metadata": {},
   "outputs": [],
   "source": []
  },
  {
   "cell_type": "markdown",
   "id": "2643472d",
   "metadata": {},
   "source": [
    "### Task 03.14\n",
    "\n",
    "Compute the latent representation of each student, using the trained model.\n",
    "Provide two scatter plots (as part of the same plot), one for each latent dimension, with the pass rate of each student on the y axis and the latent representation values on the x axis.\n",
    "\n",
    "Try to interpret these plots. Do you notice any patterns?"
   ]
  },
  {
   "cell_type": "code",
   "execution_count": null,
   "id": "e13955ac",
   "metadata": {
    "scrolled": true
   },
   "outputs": [],
   "source": []
  },
  {
   "cell_type": "markdown",
   "id": "c8668d55",
   "metadata": {},
   "source": [
    "**ANSWER:** "
   ]
  }
 ],
 "metadata": {
  "kernelspec": {
   "display_name": "Python 3 (ipykernel)",
   "language": "python",
   "name": "python3"
  },
  "language_info": {
   "codemirror_mode": {
    "name": "ipython",
    "version": 3
   },
   "file_extension": ".py",
   "mimetype": "text/x-python",
   "name": "python",
   "nbconvert_exporter": "python",
   "pygments_lexer": "ipython3",
   "version": "3.9.10"
  }
 },
 "nbformat": 4,
 "nbformat_minor": 5
}
