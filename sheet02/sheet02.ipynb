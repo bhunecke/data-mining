{
 "cells": [
  {
   "cell_type": "markdown",
   "id": "17ba32a1-eb0e-4f4f-a796-9dd53713cf2c",
   "metadata": {
    "deletable": false,
    "editable": false,
    "nbgrader": {
     "cell_type": "markdown",
     "checksum": "a649af2f31bf230f9bde39e8d9840656",
     "grade": false,
     "grade_id": "hw2-description",
     "locked": true,
     "schema_version": 3,
     "solution": false,
     "task": false
    }
   },
   "source": [
    "# Exercise Sheet 02: Principal Component Analysis, Factor Analysis, K-Means, and Gaussian Mixture Models\n",
    "\n",
    "**Introduction to Data Mining WS23/24**  \n",
    "**Bielefeld University**  \n",
    "**Alina Deriyeva, Benjamin Paaßen**  \n",
    "**Exercise Sheet Publication Date: 2023-11-06**  \n",
    "**Exercise Sheet Submission Deadline: Friday, 2023-11-17, noon (i.e. 12:00), via Moodle.**\n",
    "\n",
    "**NOTE** The use of language models/AI tools is permitted IF you notify us of the use (just indicate it in the respective task) and are still able to understand and present your results. We also appreciate it if you link to a chatlog of the interaction with the language model/AI tool so that we can understand better how students tend to use these tools."
   ]
  },
  {
   "cell_type": "markdown",
   "metadata": {},
   "source": [
    "**AUTHORS**\n",
    "\n",
    "Florian Wicher, Christopher Gerz, Torben Lambrecht, Bastian Hunecke"
   ]
  },
  {
   "cell_type": "markdown",
   "id": "715a691f-588c-43d5-a8a9-414a8b81081d",
   "metadata": {
    "deletable": false,
    "editable": false,
    "nbgrader": {
     "cell_type": "markdown",
     "checksum": "9001d2e301d8f5fb40d8ca0ff9bb65b7",
     "grade": false,
     "grade_id": "hw2-preamble",
     "locked": true,
     "schema_version": 3,
     "solution": false,
     "task": false
    }
   },
   "source": [
    "## Preamble: Data set\n",
    "\n",
    "The file `sheet02_data.csv` contains fictional data as you might find in an online course. Each row represents a student, each column a feature of the student's activity in the course, namely their number of posts in the course discussion forum, the number of questions they asked in chat during the online lectures, the number of messages they sent to their peers, and the number of points they achieved in each of the five exercises of the course.\n",
    "\n",
    "Note that there is quite a bit of missing data for later exercises because many students dropped out of the course early.\n",
    "\n",
    "The following line loads this raw data and prints it."
   ]
  },
  {
   "cell_type": "code",
   "execution_count": 2,
   "id": "1a985b74-52d4-417c-835d-134146b95730",
   "metadata": {
    "deletable": false,
    "editable": false,
    "nbgrader": {
     "cell_type": "code",
     "checksum": "1f1e9b97ca4efae8262263cfe2503b59",
     "grade": false,
     "grade_id": "hw2-data",
     "locked": true,
     "schema_version": 3,
     "solution": false,
     "task": false
    }
   },
   "outputs": [
    {
     "name": "stdout",
     "output_type": "stream",
     "text": [
      "[[ 3.  1.  1. ... 56. 61. 60.]\n",
      " [ 0.  0.  0. ... nan nan nan]\n",
      " [ 7.  3.  2. ... 66. 57. nan]\n",
      " ...\n",
      " [ 0.  0.  0. ... 30. nan nan]\n",
      " [ 1.  0.  0. ... nan nan nan]\n",
      " [ 3.  0.  1. ... 40. 35. 40.]]\n"
     ]
    }
   ],
   "source": [
    "import numpy as np\n",
    "import matplotlib.pyplot as plt\n",
    "\n",
    "features = ['num_forum_postings',\n",
    "    'num_questions',\n",
    "    'num_messages',\n",
    "    'num_completed_tasks',\n",
    "    'points_exercise_1',\n",
    "    'points_exercise_2',\n",
    "    'points_exercise_3',\n",
    "    'points_exercise_4',\n",
    "    'points_exercise_5']\n",
    "\n",
    "X = np.loadtxt('sheet02_data.csv', skiprows = 1, delimiter = '\\t')\n",
    "print(X)"
   ]
  },
  {
   "cell_type": "markdown",
   "id": "0c7e75b7-b97d-4a4e-bc09-2223ddfaed37",
   "metadata": {
    "deletable": false,
    "editable": false,
    "nbgrader": {
     "cell_type": "markdown",
     "checksum": "4e4ce315083ce5875e3679659d2469d4",
     "grade": false,
     "grade_id": "hw2-task1-description",
     "locked": true,
     "schema_version": 3,
     "solution": false,
     "task": false
    }
   },
   "source": [
    "### Task 02.01\n",
    "\n",
    "Our first challenge is to impute the missing data. Fill in missing values with the mean points the respective student got on the other exercises. For students with no completed exercises, fill in zeros."
   ]
  },
  {
   "cell_type": "code",
   "execution_count": 4,
   "id": "c6a3b1f8-10ca-46e3-9069-092f4356da03",
   "metadata": {
    "deletable": false,
    "nbgrader": {
     "cell_type": "code",
     "checksum": "1a4a549a40d14b4eac5c19ce91cc9cc4",
     "grade": false,
     "grade_id": "hw2-task1-solution",
     "locked": false,
     "schema_version": 3,
     "solution": true,
     "task": false
    }
   },
   "outputs": [
    {
     "name": "stdout",
     "output_type": "stream",
     "text": [
      "[[ 3.          1.          1.         ... 56.         61.\n",
      "  60.        ]\n",
      " [ 0.          0.          0.         ... 24.5        24.5\n",
      "  24.5       ]\n",
      " [ 7.          3.          2.         ... 66.         57.\n",
      "  60.75      ]\n",
      " ...\n",
      " [ 0.          0.          0.         ... 30.         30.66666667\n",
      "  30.66666667]\n",
      " [ 1.          0.          0.         ... 13.         13.\n",
      "  13.        ]\n",
      " [ 3.          0.          1.         ... 40.         35.\n",
      "  40.        ]]\n"
     ]
    }
   ],
   "source": [
    "# YOUR CODE HERE\n",
    "for row in X:\n",
    "    \n",
    "    #check if there are only nan values\n",
    "    if np.count_nonzero(np.isnan(row)) == 5:\n",
    "        row[4:9] = 0\n",
    "    \n",
    "    #check if we have to impute missing values\n",
    "    if np.count_nonzero(np.isnan(row)) != 0:\n",
    "        \n",
    "        #compute mean\n",
    "        student_mean = np.nanmean(row[4:8])\n",
    "        \n",
    "        for i in range(4,9):\n",
    "            if np.isnan(row[i]):\n",
    "                row[i] = student_mean\n",
    "            \n",
    "print(X)"
   ]
  },
  {
   "cell_type": "code",
   "execution_count": 7,
   "id": "70d00988-fef8-410f-b945-77d06d239ecf",
   "metadata": {
    "deletable": false,
    "editable": false,
    "nbgrader": {
     "cell_type": "code",
     "checksum": "f074c81e092e8736b96136a93bb375e1",
     "grade": true,
     "grade_id": "hw2-task1-test",
     "locked": true,
     "points": 1,
     "schema_version": 3,
     "solution": false,
     "task": false
    }
   },
   "outputs": [],
   "source": [
    "# this cell is here for test purposes. please ignore it. "
   ]
  },
  {
   "cell_type": "markdown",
   "id": "13d127e2-817d-414c-bf8b-c19d10e74f0d",
   "metadata": {
    "deletable": false,
    "editable": false,
    "nbgrader": {
     "cell_type": "markdown",
     "checksum": "f2475e0fd5334663acc8087ee9e55aab",
     "grade": false,
     "grade_id": "hw2-task2-description",
     "locked": true,
     "schema_version": 3,
     "solution": false,
     "task": false
    }
   },
   "source": [
    "### Task 02.02\n",
    "\n",
    "Next, normalize the data by dividing by the maximum value in each column."
   ]
  },
  {
   "cell_type": "code",
   "execution_count": 5,
   "id": "a3e403d0-983e-4406-8ed1-d0c16498bc3e",
   "metadata": {
    "deletable": false,
    "nbgrader": {
     "cell_type": "code",
     "checksum": "205b7562a1805bf99e63b0428909cf2c",
     "grade": false,
     "grade_id": "hw2-task2-solution",
     "locked": false,
     "schema_version": 3,
     "solution": true,
     "task": false
    }
   },
   "outputs": [
    {
     "data": {
      "text/plain": [
       "array([[0.25      , 0.2       , 0.11111111, ..., 0.70886076, 0.7721519 ,\n",
       "        0.76923077],\n",
       "       [0.        , 0.        , 0.        , ..., 0.31012658, 0.31012658,\n",
       "        0.31410256],\n",
       "       [0.58333333, 0.6       , 0.22222222, ..., 0.83544304, 0.72151899,\n",
       "        0.77884615],\n",
       "       ...,\n",
       "       [0.        , 0.        , 0.        , ..., 0.37974684, 0.38818565,\n",
       "        0.39316239],\n",
       "       [0.08333333, 0.        , 0.        , ..., 0.16455696, 0.16455696,\n",
       "        0.16666667],\n",
       "       [0.25      , 0.        , 0.11111111, ..., 0.50632911, 0.44303797,\n",
       "        0.51282051]])"
      ]
     },
     "execution_count": 5,
     "metadata": {},
     "output_type": "execute_result"
    }
   ],
   "source": [
    "# YOUR CODE HERE\n",
    "\n",
    "#compute column means\n",
    "\n",
    "col_max = np.max(X, axis=0)\n",
    "\n",
    "for i in range(len(X)):\n",
    "    X[i] = np.divide(X[i], col_max)\n",
    "    \n",
    "X"
   ]
  },
  {
   "cell_type": "code",
   "execution_count": 9,
   "id": "8e1eb848-2ae8-4de6-acbc-fb0d5bab50c7",
   "metadata": {
    "deletable": false,
    "editable": false,
    "nbgrader": {
     "cell_type": "code",
     "checksum": "93f3ea6b0d4ded9d50c145033e8e4be2",
     "grade": true,
     "grade_id": "hw2-task2-test",
     "locked": true,
     "points": 1,
     "schema_version": 3,
     "solution": false,
     "task": false
    }
   },
   "outputs": [],
   "source": [
    "# this cell is here for test purposes. please ignore it. "
   ]
  },
  {
   "cell_type": "markdown",
   "id": "38f0c153-a66c-4c4a-aad6-03ee7be0744d",
   "metadata": {
    "deletable": false,
    "editable": false,
    "nbgrader": {
     "cell_type": "markdown",
     "checksum": "26ea8562ab7f68338fab402e0332d318",
     "grade": false,
     "grade_id": "hw2-pca",
     "locked": true,
     "schema_version": 3,
     "solution": false,
     "task": false
    }
   },
   "source": [
    "## Principal Component Analysis"
   ]
  },
  {
   "cell_type": "markdown",
   "id": "3d7dc3fa-c465-420e-8076-242dd1ad8720",
   "metadata": {
    "deletable": false,
    "editable": false,
    "nbgrader": {
     "cell_type": "markdown",
     "checksum": "1d699bf6693544d3613be81c2d7f6737",
     "grade": false,
     "grade_id": "hw2-task3-description",
     "locked": true,
     "schema_version": 3,
     "solution": false,
     "task": false
    }
   },
   "source": [
    "### Task 02.03\n",
    "\n",
    "Compute the covariance matrix of the data via `np.cov` and compute the eigenvalues of the covariance matrix via `np.linalg.eigvals`. Provide a plot of the eigenvalues on the y-axis, sorted according to size (the largest eigenvalue at x=1, the second-largest on x=2, and so on).\n",
    "\n",
    "Compute and report the percentage of variance covered by the first two eigenvalues.\n",
    "\n",
    "**HINT:** `np.cov` treats the rows as variables and columns as observations. For our data set, rows are observations and columns are variables."
   ]
  },
  {
   "cell_type": "code",
   "execution_count": 4,
   "id": "4f8594a3-3fe9-4014-9183-2709c48cb379",
   "metadata": {
    "deletable": false,
    "nbgrader": {
     "cell_type": "code",
     "checksum": "cb01f785eea35f920e5e37dcd8b321fa",
     "grade": false,
     "grade_id": "hw2-task3-solution",
     "locked": false,
     "schema_version": 3,
     "solution": true,
     "task": false
    }
   },
   "outputs": [
    {
     "name": "stdout",
     "output_type": "stream",
     "text": [
      "Percentage of variance covered by the first two eigenvalues: 90.89850565655809%\n"
     ]
    },
    {
     "data": {
      "image/png": "[encoded data removed]",
      "text/plain": [
       "<Figure size 640x480 with 1 Axes>"
      ]
     },
     "metadata": {},
     "output_type": "display_data"
    }
   ],
   "source": [
    "# YOUR CODE HERE\n",
    "cov_matrix = np.cov(X.T)\n",
    "\n",
    "\n",
    "ev, _  = np.linalg.eig(cov_matrix)\n",
    "\n",
    "ev = np.flip(np.sort(ev))\n",
    "\n",
    "\n",
    "print(f\"Percentage of variance covered by the first two eigenvalues: {sum(ev[:2]) / sum(ev) * 100}%\")\n",
    "\n",
    "\n",
    "plt.title(\"Eigenvalues\")\n",
    "plt.scatter(x=[i for i in range(len(ev))],y=ev)\n",
    "plt.show()"
   ]
  },
  {
   "cell_type": "code",
   "execution_count": 11,
   "id": "b74c9b44-17d6-419d-8415-3d7af872c185",
   "metadata": {
    "deletable": false,
    "editable": false,
    "nbgrader": {
     "cell_type": "code",
     "checksum": "4cd3bcda539c5412020aed51de68d696",
     "grade": true,
     "grade_id": "hw2-task3-test",
     "locked": true,
     "points": 1,
     "schema_version": 3,
     "solution": false,
     "task": false
    }
   },
   "outputs": [],
   "source": [
    "# this cell is here for test purposes. please ignore it. "
   ]
  },
  {
   "cell_type": "markdown",
   "id": "d1073280-b4c8-4f50-9c86-24416f235fcc",
   "metadata": {
    "deletable": false,
    "editable": false,
    "nbgrader": {
     "cell_type": "markdown",
     "checksum": "4d4f0969d78595b3e45ba3a718581054",
     "grade": false,
     "grade_id": "hw2-task4-description",
     "locked": true,
     "schema_version": 3,
     "solution": false,
     "task": false
    }
   },
   "source": [
    "### Task 02.04\n",
    "\n",
    "Use the `fit` method of a `sklearn.decomposition.PCA` model to perform a principal component analysis of this data with `n_components = 2`.\n",
    "\n",
    "Transform the data to the latent space via the `transform` function of the PCA model.\n",
    "\n",
    "Plot the data using a 2D scatter plot."
   ]
  },
  {
   "cell_type": "code",
   "execution_count": 5,
   "id": "1147f615-4cf1-4432-a770-647a902b4c55",
   "metadata": {
    "deletable": false,
    "nbgrader": {
     "cell_type": "code",
     "checksum": "f8ba2ade9488c9151cae2eccddba4b17",
     "grade": false,
     "grade_id": "hw2-task4-solution",
     "locked": false,
     "schema_version": 3,
     "solution": true,
     "task": false
    }
   },
   "outputs": [
    {
     "data": {
      "image/png": "[encoded data removed]",
      "text/plain": [
       "<Figure size 640x480 with 1 Axes>"
      ]
     },
     "metadata": {},
     "output_type": "display_data"
    }
   ],
   "source": [
    "# YOUR CODE HERE\n",
    "from sklearn.decomposition import PCA\n",
    "\n",
    "pca = PCA(n_components=2)\n",
    "pca.fit(X)\n",
    "\n",
    "X_reduced = pca.transform(X)\n",
    "\n",
    "x = [i[0] for i in X_reduced]\n",
    "y = [i[1] for i in X_reduced]\n",
    "\n",
    "\n",
    "plt.title(\"Data with reduced dimensionality\")\n",
    "plt.scatter(x,y)\n",
    "plt.show()"
   ]
  },
  {
   "cell_type": "code",
   "execution_count": 13,
   "id": "e68449c6-c36c-4e8b-8eeb-95ec08aba484",
   "metadata": {
    "deletable": false,
    "editable": false,
    "nbgrader": {
     "cell_type": "code",
     "checksum": "5104e9d79bea49e9c9fa3b7f96c8d616",
     "grade": true,
     "grade_id": "hw2-task4-test",
     "locked": true,
     "points": 1,
     "schema_version": 3,
     "solution": false,
     "task": false
    }
   },
   "outputs": [],
   "source": [
    "# this cell is here for test purposes. please ignore it. "
   ]
  },
  {
   "cell_type": "markdown",
   "id": "61ebe84f-39cf-4487-9f2c-db8d09e299d7",
   "metadata": {
    "deletable": false,
    "editable": false,
    "nbgrader": {
     "cell_type": "markdown",
     "checksum": "cc5a82eb4904c1dfb5404821d96135e5",
     "grade": false,
     "grade_id": "hw2-task5-description",
     "locked": true,
     "schema_version": 3,
     "solution": false,
     "task": false
    }
   },
   "source": [
    "### Task 02.05 (Bonus Task)\n",
    "\n",
    "Compute the eigenvalue decomposition of the covariance matrix and perform PCA yourself. Only retain the two most prominent components and plot the transformed data with a 2D scatter plot. Check whether your plot is consistent with the plot above."
   ]
  },
  {
   "cell_type": "code",
   "execution_count": null,
   "id": "e0fa66f2-b3d7-449b-b96b-0f3e2aee54e3",
   "metadata": {
    "deletable": false,
    "nbgrader": {
     "cell_type": "code",
     "checksum": "d3ccb887aa27bd1e78fc6497bf3db7a4",
     "grade": false,
     "grade_id": "hw2-task5-solution",
     "locked": false,
     "schema_version": 3,
     "solution": true,
     "task": false
    }
   },
   "outputs": [],
   "source": [
    "# YOUR CODE HERE\n",
    "raise NotImplementedError()"
   ]
  },
  {
   "cell_type": "code",
   "execution_count": null,
   "id": "fedda999-3d49-42d0-89d4-817fa2647a18",
   "metadata": {
    "deletable": false,
    "editable": false,
    "nbgrader": {
     "cell_type": "code",
     "checksum": "2c97cb21be23ab13a562f4b434c78522",
     "grade": true,
     "grade_id": "hw2-task5-test",
     "locked": true,
     "points": 1,
     "schema_version": 3,
     "solution": false,
     "task": false
    }
   },
   "outputs": [],
   "source": [
    "# this cell is here for test purposes. please ignore it. "
   ]
  },
  {
   "cell_type": "markdown",
   "id": "91df8a22-9a1c-49c6-a6be-2a3f1eef2878",
   "metadata": {
    "deletable": false,
    "editable": false,
    "nbgrader": {
     "cell_type": "markdown",
     "checksum": "d90b6c4ed313d518d5488f58910d015b",
     "grade": false,
     "grade_id": "hw2-factor",
     "locked": true,
     "schema_version": 3,
     "solution": false,
     "task": false
    }
   },
   "source": [
    "## Factor Analysis"
   ]
  },
  {
   "cell_type": "markdown",
   "id": "25c0532b-5e43-45db-9bdf-d2015af41f25",
   "metadata": {
    "deletable": false,
    "editable": false,
    "nbgrader": {
     "cell_type": "markdown",
     "checksum": "2f8afc6b2e9becb1dbbe6003f302bc8e",
     "grade": false,
     "grade_id": "hw2-task6-description",
     "locked": true,
     "schema_version": 3,
     "solution": false,
     "task": false
    }
   },
   "source": [
    "### Task 02.06\n",
    "\n",
    "Use the `fit` method of a `sklearn.decomposition.FactorAnalysis` model to perform a factor analysis of this data with `n_components = 2`. Use the `rotation = 'varimax'` parameter.\n",
    "\n",
    "Transform the data to the latent space via the `transform` function of the FA model.\n",
    "\n",
    "Plot the data using a 2D scatter plot.\n",
    "\n",
    "Compare this plot to the plot above. What difference do you notice?"
   ]
  },
  {
   "cell_type": "code",
   "execution_count": 7,
   "id": "33e8c22a-b829-41c2-a2b5-7f62af494595",
   "metadata": {
    "deletable": false,
    "nbgrader": {
     "cell_type": "code",
     "checksum": "b505ee1c03306b9bf0e13ebfb325b909",
     "grade": true,
     "grade_id": "hw2-task6-solution",
     "locked": false,
     "points": 1,
     "schema_version": 3,
     "solution": true,
     "task": false
    }
   },
   "outputs": [
    {
     "data": {
      "image/png": "[encoded data removed]",
      "text/plain": [
       "<Figure size 640x480 with 1 Axes>"
      ]
     },
     "metadata": {},
     "output_type": "display_data"
    }
   ],
   "source": [
    "# YOUR CODE HERE\n",
    "from sklearn.decomposition import FactorAnalysis\n",
    "\n",
    "fa = FactorAnalysis(n_components=2, rotation='varimax')\n",
    "fa.fit(X)\n",
    "\n",
    "X_reduced_fa = fa.transform(X)\n",
    "\n",
    "x = [i[0] for i in X_reduced_fa]\n",
    "y = [i[1] for i in X_reduced_fa]\n",
    "\n",
    "\n",
    "plt.title(\"Data with reduced dimensionality using factor analysis\")\n",
    "plt.scatter(x,y)\n",
    "plt.show()"
   ]
  },
  {
   "cell_type": "code",
   "execution_count": null,
   "id": "a7f18514-7dc6-4742-8a0d-f3dc853e9e89",
   "metadata": {
    "deletable": false,
    "editable": false,
    "nbgrader": {
     "cell_type": "code",
     "checksum": "f2bc9814e356c90d7c0051caebe02c82",
     "grade": true,
     "grade_id": "hw2-task6-test",
     "locked": true,
     "points": 1,
     "schema_version": 3,
     "solution": false,
     "task": false
    }
   },
   "outputs": [],
   "source": [
    "# this cell is here for test purposes. please ignore it. "
   ]
  },
  {
   "cell_type": "markdown",
   "id": "bdf237a7-4abf-4055-992d-131b327ca679",
   "metadata": {
    "deletable": false,
    "nbgrader": {
     "cell_type": "markdown",
     "checksum": "62841e2447a2eeeb8fd1e8f382a1ec3e",
     "grade": true,
     "grade_id": "hw2-task6-interpretation",
     "locked": false,
     "points": 1,
     "schema_version": 3,
     "solution": true,
     "task": false
    }
   },
   "source": [
    "The plots look very similar, they look like a mirrored version of each other."
   ]
  },
  {
   "cell_type": "markdown",
   "id": "5766701b-6f59-44f8-a88b-5c07ca0f7bc4",
   "metadata": {
    "deletable": false,
    "editable": false,
    "nbgrader": {
     "cell_type": "markdown",
     "checksum": "a38c327173490259a12457fca109906e",
     "grade": false,
     "grade_id": "hw2-task7-description",
     "locked": true,
     "schema_version": 3,
     "solution": false,
     "task": false
    }
   },
   "source": [
    "### Task 02.07\n",
    "\n",
    "Print the `components_` property of the factor analysis model. For both factors, report which features/columns of the data have high weights.\n",
    "\n",
    "Try to interpret the \n",
    "\n",
    "Print the factors found by the factor analysis using `print(model.components_)`. Try to interpret both factors. What does the first factor represent? What does the second factor represent?"
   ]
  },
  {
   "cell_type": "code",
   "execution_count": 8,
   "id": "3d94a4a3-cdee-4890-bc32-c1ffaa90a5db",
   "metadata": {
    "deletable": false,
    "nbgrader": {
     "cell_type": "code",
     "checksum": "f0b8ae87d7976b50f199b41e5d3d7f9f",
     "grade": true,
     "grade_id": "hw2-task7-solution",
     "locked": false,
     "points": 1,
     "schema_version": 3,
     "solution": true,
     "task": false
    }
   },
   "outputs": [
    {
     "name": "stdout",
     "output_type": "stream",
     "text": [
      "[[0.11703187 0.09086351 0.0932999  0.33418737 0.27715195 0.2760629\n",
      "  0.26329229 0.26347569 0.26832181]\n",
      " [0.21847961 0.19309129 0.17895348 0.11021114 0.05045514 0.04984632\n",
      "  0.04727654 0.0480017  0.05404447]]\n"
     ]
    }
   ],
   "source": [
    "# YOUR CODE HERE\n",
    "print(fa.components_)"
   ]
  },
  {
   "cell_type": "markdown",
   "id": "dedb3cd1-bd28-41f7-a788-95606f39d58d",
   "metadata": {
    "deletable": false,
    "nbgrader": {
     "cell_type": "markdown",
     "checksum": "e5fa0f753a8d270b3c2dfc0e51a30a32",
     "grade": true,
     "grade_id": "hw2-task7-interpretation",
     "locked": false,
     "points": 1,
     "schema_version": 3,
     "solution": true,
     "task": false
    }
   },
   "source": [
    "For the first factor the columns from the 4th to the last have the heighest weighte. The students score higher on the first factor if they have higher points in the exercises. This means that the first factor represents how well the students do on the tests overall.\n",
    "\n",
    "The second factor has a high value for first 3 columns. That means that students that post more forum questions, post more messages and questions score higher on the second factor. The second factor represents how much the students communicate with each other"
   ]
  },
  {
   "cell_type": "markdown",
   "id": "fbc96c6b-2ab7-4560-98f1-87d4c8ae1f70",
   "metadata": {
    "deletable": false,
    "editable": false,
    "nbgrader": {
     "cell_type": "markdown",
     "checksum": "f6bf2d51179d98f9c0821ad5af873b82",
     "grade": false,
     "grade_id": "hw2-clustering",
     "locked": true,
     "schema_version": 3,
     "solution": false,
     "task": false
    }
   },
   "source": [
    "## Clustering"
   ]
  },
  {
   "cell_type": "markdown",
   "id": "cf191118-aa1a-4615-b7d9-44b100c07f08",
   "metadata": {
    "deletable": false,
    "editable": false,
    "nbgrader": {
     "cell_type": "markdown",
     "checksum": "a4444b5150598490f3cb1cb2ed061e92",
     "grade": false,
     "grade_id": "hw2-task8-description",
     "locked": true,
     "schema_version": 3,
     "solution": false,
     "task": false
    }
   },
   "source": [
    "### Task 02.08\n",
    "\n",
    "Using `sklearn.cluster.KMeans`, perform cluster analyses of the data for `n_clusters` between 2 and 10. For each value of `n_clusters`, compute the `sklearn.metrics.silhouette_score`. Provide a plot of the silhouette score on the y axis and `n_clusters` on the x axis. Report which value for `n_clusters` is best according to this analysis.\n",
    "\n",
    "**HINT:** The `silhouette_score` function requires the cluster labels as second argument. You can retrieve the cluster labels from a fitted `KMeans` model via the `predict` function."
   ]
  },
  {
   "cell_type": "code",
   "execution_count": 8,
   "id": "2eea1114-d023-4a0d-8700-eb87117a2b1d",
   "metadata": {
    "deletable": false,
    "nbgrader": {
     "cell_type": "code",
     "checksum": "e2b32dae67aaf130e002fe22ddcf0891",
     "grade": false,
     "grade_id": "hw2-task8-solution",
     "locked": false,
     "schema_version": 3,
     "solution": true,
     "task": false
    }
   },
   "outputs": [
    {
     "data": {
      "image/png": "[encoded data removed]",
      "text/plain": [
       "<Figure size 640x480 with 1 Axes>"
      ]
     },
     "metadata": {},
     "output_type": "display_data"
    }
   ],
   "source": [
    "from sklearn.cluster import KMeans\n",
    "from sklearn.metrics import silhouette_score\n",
    "\n",
    "silhouette_scores = []\n",
    "\n",
    "for n in range(2, 11):\n",
    "    kmeans = KMeans(n_clusters=n, n_init='auto')\n",
    "    kmeans.fit(X)\n",
    "    labels = kmeans.predict(X)\n",
    "    silhouette_scores.append(silhouette_score(X, labels))\n",
    "\n",
    "plt.title(\"Silhouette Scores\")\n",
    "plt.xlabel(\"Number of clusters\")\n",
    "plt.ylabel(\"Silhouette score\")\n",
    "plt.plot([i for i in range(2,11)], silhouette_scores)\n",
    "plt.show()\n"
   ]
  },
  {
   "cell_type": "code",
   "execution_count": null,
   "id": "0ea76d4f-6564-40a1-a1b7-0feb3c589e4f",
   "metadata": {
    "deletable": false,
    "editable": false,
    "nbgrader": {
     "cell_type": "code",
     "checksum": "f21b1afb5aeee63e0962e6aaeb4645a6",
     "grade": true,
     "grade_id": "hw2-task8-test",
     "locked": true,
     "points": 0,
     "schema_version": 3,
     "solution": false,
     "task": false
    }
   },
   "outputs": [],
   "source": [
    "# this cell is here for test purposes. please ignore it. "
   ]
  },
  {
   "cell_type": "markdown",
   "id": "5b08b271-dfb0-4bb6-a711-e7bd8f23e155",
   "metadata": {
    "deletable": false,
    "nbgrader": {
     "cell_type": "markdown",
     "checksum": "fb10185f03c6ad776ebdb014dee33558",
     "grade": true,
     "grade_id": "hw2-task8-interpretation",
     "locked": false,
     "points": 1,
     "schema_version": 3,
     "solution": true,
     "task": false
    }
   },
   "source": [
    "Since `n_clusters = 2` has the highest silhouette score, it is the best value for $K$."
   ]
  },
  {
   "cell_type": "markdown",
   "id": "06bc3ac5-ca0c-4c25-a53e-c2af4d555c58",
   "metadata": {
    "deletable": false,
    "editable": false,
    "nbgrader": {
     "cell_type": "markdown",
     "checksum": "76a54a32bac0f9eec2b035666c8cc28d",
     "grade": false,
     "grade_id": "hw2-task9-description",
     "locked": true,
     "schema_version": 3,
     "solution": false,
     "task": false
    }
   },
   "source": [
    "### Task 02.09\n",
    "\n",
    "Using `sklearn.cluster.KMeans`, perform a cluster analysis of the data with `n_clusters = 2`. Provide a scatter plot of the latent representation of the data according to factor analysis, where the color of each point represents the cluster membership."
   ]
  },
  {
   "cell_type": "code",
   "execution_count": 9,
   "metadata": {},
   "outputs": [
    {
     "data": {
      "image/png": "[encoded data removed]",
      "text/plain": [
       "<Figure size 640x480 with 1 Axes>"
      ]
     },
     "metadata": {},
     "output_type": "display_data"
    }
   ],
   "source": [
    "from sklearn.decomposition import FactorAnalysis\n",
    "\n",
    "fa = FactorAnalysis(n_components=2)\n",
    "X_transformed = fa.fit_transform(X)\n",
    "\n",
    "kmeans = KMeans(n_clusters=2, n_init=\"auto\")\n",
    "clusters = kmeans.fit_predict(X_transformed)\n",
    "\n",
    "plt.title(\"Data with cluster labels\")\n",
    "plt.scatter(X_transformed[:, 0], X_transformed[:, 1], c=clusters)\n",
    "plt.show()"
   ]
  },
  {
   "cell_type": "code",
   "execution_count": null,
   "id": "f3e9b3ae-1d68-4654-93d7-cba6f44cf9db",
   "metadata": {
    "deletable": false,
    "editable": false,
    "nbgrader": {
     "cell_type": "code",
     "checksum": "e3ca3ce58e8c5d700b72db800dd21430",
     "grade": true,
     "grade_id": "hw2-task9-test",
     "locked": true,
     "points": 1,
     "schema_version": 3,
     "solution": false,
     "task": false
    }
   },
   "outputs": [],
   "source": [
    "# this cell is here for test purposes. please ignore it. "
   ]
  },
  {
   "cell_type": "markdown",
   "id": "7257b910-1f7b-4148-95c7-5737a850b2a0",
   "metadata": {
    "deletable": false,
    "editable": false,
    "nbgrader": {
     "cell_type": "markdown",
     "checksum": "a109f816e823cb3beae643e24b42d989",
     "grade": false,
     "grade_id": "hw2-task10-description",
     "locked": true,
     "schema_version": 3,
     "solution": false,
     "task": false
    }
   },
   "source": [
    "### Task 02.10 (bonus task)\n",
    "\n",
    "Repeat the cluster analysis, but perform it on the latent representation according to factor analysis. Plot the new clustering. Check if it is consistent with the plot above.\n"
   ]
  },
  {
   "cell_type": "code",
   "execution_count": null,
   "id": "67755b65-31be-4c91-8ce9-36dbb12a20a5",
   "metadata": {
    "deletable": false,
    "nbgrader": {
     "cell_type": "code",
     "checksum": "9fe488829e8ff850357ef7c794f86a30",
     "grade": false,
     "grade_id": "hw2-task10-solution",
     "locked": false,
     "schema_version": 3,
     "solution": true,
     "task": false
    }
   },
   "outputs": [],
   "source": [
    "# YOUR CODE HERE\n",
    "raise NotImplementedError()"
   ]
  },
  {
   "cell_type": "code",
   "execution_count": null,
   "id": "49f7f758-3731-4c25-9159-90c4e904e43b",
   "metadata": {
    "deletable": false,
    "editable": false,
    "nbgrader": {
     "cell_type": "code",
     "checksum": "2c2cf8f518947ecfc42ebf19f8e2da8b",
     "grade": true,
     "grade_id": "hw2-task10-test",
     "locked": true,
     "points": 1,
     "schema_version": 3,
     "solution": false,
     "task": false
    }
   },
   "outputs": [],
   "source": [
    "# this cell is here for test purposes. please ignore it. "
   ]
  },
  {
   "cell_type": "markdown",
   "id": "84fb0d8b-ba59-46cc-b255-0bc270076cd8",
   "metadata": {
    "deletable": false,
    "editable": false,
    "nbgrader": {
     "cell_type": "markdown",
     "checksum": "1b61ff2c870144e59d3fd06a0201c9b0",
     "grade": false,
     "grade_id": "hw2-task11-description",
     "locked": true,
     "schema_version": 3,
     "solution": false,
     "task": false
    }
   },
   "source": [
    "### Task 02.11 (bonus task)\n",
    "\n",
    "Implement $K$-Means yourself. Check if your result is consistent with the result provided by the `sklearn` implementation.\n"
   ]
  },
  {
   "cell_type": "code",
   "execution_count": null,
   "id": "5ea57b06-fe77-4199-8dec-0c3972f2125a",
   "metadata": {
    "deletable": false,
    "nbgrader": {
     "cell_type": "code",
     "checksum": "ca6de8c9752d73040f2eee3f2e1bad10",
     "grade": true,
     "grade_id": "hw2-task11-solution",
     "locked": false,
     "points": 1,
     "schema_version": 3,
     "solution": true,
     "task": false
    }
   },
   "outputs": [],
   "source": [
    "# YOUR CODE HERE\n",
    "raise NotImplementedError()"
   ]
  },
  {
   "cell_type": "markdown",
   "id": "042156ba-63b5-4232-90cd-65210ce9c148",
   "metadata": {
    "deletable": false,
    "editable": false,
    "nbgrader": {
     "cell_type": "markdown",
     "checksum": "d12be55eb39da19dce0beb77c75e1e3b",
     "grade": false,
     "grade_id": "hw2-gaussian",
     "locked": true,
     "schema_version": 3,
     "solution": false,
     "task": false
    }
   },
   "source": [
    "## Gaussian Mixture Models"
   ]
  },
  {
   "cell_type": "markdown",
   "id": "61ed9d96-0778-409e-af3f-cb106829c876",
   "metadata": {
    "deletable": false,
    "editable": false,
    "nbgrader": {
     "cell_type": "markdown",
     "checksum": "75539a08871a3cf3d39b44022a577819",
     "grade": false,
     "grade_id": "hw2-task12-description",
     "locked": true,
     "schema_version": 3,
     "solution": false,
     "task": false
    }
   },
   "source": [
    "### Task 02.12\n",
    "\n",
    "Using `sklearn.mixture.GaussianMixture`, perform cluster analyses of the data with `n_components` between 2 and 10. For each cluster analysis, compute the `bic` function value of the model (this is the Bayesian information criterion). Provide a plot of the bic value on the y axis with `n_components` on the x axis.\n",
    "\n",
    "Report which value for `n_components` is best according to this analysis."
   ]
  },
  {
   "cell_type": "code",
   "execution_count": 17,
   "id": "77e1b3f6-d94d-4f5d-b743-b21c6a805d3e",
   "metadata": {
    "deletable": false,
    "nbgrader": {
     "cell_type": "code",
     "checksum": "6c68875431294660335191c415a929ad",
     "grade": false,
     "grade_id": "hw2-task12-solution",
     "locked": false,
     "schema_version": 3,
     "solution": true,
     "task": false
    }
   },
   "outputs": [
    {
     "data": {
      "image/png": "[encoded data removed]",
      "text/plain": [
       "<Figure size 640x480 with 1 Axes>"
      ]
     },
     "metadata": {},
     "output_type": "display_data"
    }
   ],
   "source": [
    "from sklearn.mixture import GaussianMixture\n",
    "\n",
    "bic_values = []\n",
    "\n",
    "for n in range(2, 11):\n",
    "    gaussian = GaussianMixture(n_components=n)\n",
    "    gaussian.fit_predict(X)\n",
    "    bic_values.append(gaussian.bic(X))\n",
    "\n",
    "plt.title(\"BIC Values\")\n",
    "plt.xlabel(\"Number of clusters\")\n",
    "plt.ylabel(\"BIC\")\n",
    "plt.plot([i for i in range(2,11)], bic_values)\n",
    "plt.show()"
   ]
  },
  {
   "cell_type": "code",
   "execution_count": null,
   "id": "97805d24-9b62-430f-aae3-b7d94bdd9cce",
   "metadata": {
    "deletable": false,
    "editable": false,
    "nbgrader": {
     "cell_type": "code",
     "checksum": "32c5e589cb7e5698bfa2b792477b201e",
     "grade": true,
     "grade_id": "hw2-task12-test",
     "locked": true,
     "points": 1,
     "schema_version": 3,
     "solution": false,
     "task": false
    }
   },
   "outputs": [],
   "source": [
    "# this cell is here for test purposes. please ignore it. "
   ]
  },
  {
   "cell_type": "markdown",
   "metadata": {},
   "source": [
    "According to the Bayesian information criterion, the best value of $K$ is 6."
   ]
  },
  {
   "cell_type": "markdown",
   "id": "1d22ef98-2c9f-4413-8be3-1f2d7788cf90",
   "metadata": {
    "deletable": false,
    "editable": false,
    "nbgrader": {
     "cell_type": "markdown",
     "checksum": "e7dd16a5ef5df3bb7c540d4e74d0ea5b",
     "grade": false,
     "grade_id": "hw2-task13-description",
     "locked": true,
     "schema_version": 3,
     "solution": false,
     "task": false
    }
   },
   "source": [
    "### Task 02.13\n",
    "\n",
    "Using `sklearn.mixture.GaussianMixture`, perform a cluster analysis of the data with `n_components = 2`. Provide a scatter plot of the latent representation of the data according to factor analysis, where the color of each point represents the cluster membership."
   ]
  },
  {
   "cell_type": "code",
   "execution_count": null,
   "id": "38e03fca-9acf-4392-9d62-f1a97b575ab0",
   "metadata": {
    "deletable": false,
    "nbgrader": {
     "cell_type": "code",
     "checksum": "7c42b84da922bc9ef6b74361d6774ac4",
     "grade": false,
     "grade_id": "hw2-task13-solution",
     "locked": false,
     "schema_version": 3,
     "solution": true,
     "task": false
    }
   },
   "outputs": [],
   "source": [
    "# YOUR CODE HERE\n",
    "raise NotImplementedError()"
   ]
  },
  {
   "cell_type": "code",
   "execution_count": null,
   "id": "13a1addf-5a4e-41f9-a38a-fd6e4b23c022",
   "metadata": {
    "deletable": false,
    "editable": false,
    "nbgrader": {
     "cell_type": "code",
     "checksum": "6c5f90fafb5a5a5de227620acddfd318",
     "grade": true,
     "grade_id": "hw2-task13-test",
     "locked": true,
     "points": 1,
     "schema_version": 3,
     "solution": false,
     "task": false
    }
   },
   "outputs": [],
   "source": [
    "# this cell is here for test purposes. please ignore it. "
   ]
  },
  {
   "cell_type": "markdown",
   "id": "601751d6-6e1e-4a3f-9da5-8e1f835da5e3",
   "metadata": {
    "deletable": false,
    "editable": false,
    "nbgrader": {
     "cell_type": "markdown",
     "checksum": "d6f4e2cb13a7c7700e7e303c99de9897",
     "grade": false,
     "grade_id": "hw2-task14-description",
     "locked": true,
     "schema_version": 3,
     "solution": false,
     "task": false
    }
   },
   "source": [
    "### Task 02.14\n",
    "\n",
    "Using `sklearn.mixture.GaussianMixture`, perform a cluster analysis of the latent space representation according to factor analysis with `n_components = 3`. Provide a scatter plot, where the color of each point represents the cluster membership."
   ]
  },
  {
   "cell_type": "code",
   "execution_count": null,
   "id": "8b3d9550-4f5e-4098-bdfd-cd5b5abe3780",
   "metadata": {
    "deletable": false,
    "nbgrader": {
     "cell_type": "code",
     "checksum": "74d26b85ee7526357e8f31e11753f740",
     "grade": false,
     "grade_id": "hw2-task14-solution",
     "locked": false,
     "schema_version": 3,
     "solution": true,
     "task": false
    }
   },
   "outputs": [],
   "source": [
    "# YOUR CODE HERE\n",
    "raise NotImplementedError()"
   ]
  },
  {
   "cell_type": "code",
   "execution_count": null,
   "id": "13200a66-7394-4471-900c-f8ffd45a2d24",
   "metadata": {
    "deletable": false,
    "editable": false,
    "nbgrader": {
     "cell_type": "code",
     "checksum": "01545632d31abc1653ba6badefc9d5dd",
     "grade": true,
     "grade_id": "hw2-task14-test",
     "locked": true,
     "points": 1,
     "schema_version": 3,
     "solution": false,
     "task": false
    }
   },
   "outputs": [],
   "source": [
    "# this cell is here for test purposes. please ignore it. "
   ]
  },
  {
   "cell_type": "markdown",
   "id": "60b396ad-7619-44bd-92e6-604d1ea42245",
   "metadata": {
    "deletable": false,
    "editable": false,
    "nbgrader": {
     "cell_type": "markdown",
     "checksum": "aa366ed781b8604e1eb6034e7435dd65",
     "grade": false,
     "grade_id": "hw2-task15-description",
     "locked": true,
     "schema_version": 3,
     "solution": false,
     "task": false
    }
   },
   "source": [
    "### Task 02.15\n",
    "\n",
    "Print the mean feature values for each cluster. Try to interpret the clusters: What are the mean differences between the clusters? How would you name each cluster?"
   ]
  },
  {
   "cell_type": "code",
   "execution_count": null,
   "id": "8d755cde-bd4d-4ca9-9094-e538f3500c77",
   "metadata": {
    "deletable": false,
    "nbgrader": {
     "cell_type": "code",
     "checksum": "3c7dbefa6acdc09d178cf963f5bb965f",
     "grade": true,
     "grade_id": "hw2-task15-solution",
     "locked": false,
     "points": 1,
     "schema_version": 3,
     "solution": true,
     "task": false
    }
   },
   "outputs": [],
   "source": [
    "# YOUR CODE HERE\n",
    "raise NotImplementedError()"
   ]
  },
  {
   "cell_type": "markdown",
   "id": "3991613f-8f9c-43b3-8b7b-3655a14610e3",
   "metadata": {
    "deletable": false,
    "nbgrader": {
     "cell_type": "markdown",
     "checksum": "a76791a0450d6df4679cf71e41697ecb",
     "grade": true,
     "grade_id": "hw2-task15-interpretation",
     "locked": false,
     "points": 1,
     "schema_version": 3,
     "solution": true,
     "task": false
    }
   },
   "source": [
    "YOUR ANSWER HERE"
   ]
  },
  {
   "cell_type": "markdown",
   "id": "d826c025-9bb2-4ffe-9cc9-59198de94d48",
   "metadata": {
    "deletable": false,
    "editable": false,
    "nbgrader": {
     "cell_type": "markdown",
     "checksum": "6fa357fa42235bd4efc33409e7c51e91",
     "grade": false,
     "grade_id": "hw2-task16-description",
     "locked": true,
     "schema_version": 3,
     "solution": false,
     "task": false
    }
   },
   "source": [
    "### Task 02.16\n",
    "\n",
    "Recall the equation for the expected negative log likelihood in a Gaussian mixture model from the lecture:\n",
    "\n",
    "\\begin{align*}\n",
    "Q = &\\sum_{i=1}^N \\sum_{k=1}^K -\\gamma_{k,i} \\log\\Big[ p_{X|Z}(x_i|k) \\cdot p_Z(k) \\Big]\\\\\n",
    "=& \\sum_{i=1}^N \\sum_{k=1}^K \\gamma_{k,i} \\Big(\\frac{1}{2}\\log[2\\pi \\det(\\Sigma_k)] + \\frac{1}{2} (x_i - \\mu_k)^T \\Sigma_k^{-1} (x_i - \\mu_k) - \\log[p_Z(k)]\\Big)\n",
    "\\end{align*}\n",
    "\n",
    "Assuming that $Q$ is convex, find the optimal values for $\\mu_k$ and $\\Sigma_k$\n",
    "\n",
    "**HINT:** You may use the following general matrix/vector gradient equations (refer to the [matrix cook book by Peterson and Pedersen (2012), p.10-11](https://www.math.uwaterloo.ca/~hwolkowi/matrixcookbook.pdf) :\n",
    "\\begin{align*}\n",
    "\\nabla_x (x - y)^T W (x - y) &= 2 W (x-y) \\\\\n",
    "\\nabla_W (x - y)^T W (x - y) &= (x-y)(x-y)^T \\\\\n",
    "\\nabla_{W^{-1}} \\log[\\det(W)] &= -W & \\text{if $W$ is symmetric and positive semi-definite}\n",
    "\\end{align*}"
   ]
  },
  {
   "cell_type": "markdown",
   "id": "39532b3c-f2c4-4c85-86e2-9b93af81ec01",
   "metadata": {
    "deletable": false,
    "nbgrader": {
     "cell_type": "markdown",
     "checksum": "0149e6d31cf595e92f9a71acdfb8643b",
     "grade": true,
     "grade_id": "hw2-task16-solution",
     "locked": false,
     "points": 1,
     "schema_version": 3,
     "solution": true,
     "task": false
    }
   },
   "source": [
    "YOUR ANSWER HERE"
   ]
  }
 ],
 "metadata": {
  "kernelspec": {
   "display_name": "Python 3 (ipykernel)",
   "language": "python",
   "name": "python3"
  },
  "language_info": {
   "codemirror_mode": {
    "name": "ipython",
    "version": 3
   },
   "file_extension": ".py",
   "mimetype": "text/x-python",
   "name": "python",
   "nbconvert_exporter": "python",
   "pygments_lexer": "ipython3",
   "version": "3.10.11"
  }
 },
 "nbformat": 4,
 "nbformat_minor": 5
}
